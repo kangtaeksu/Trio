{
 "cells": [
  {
   "cell_type": "code",
   "execution_count": 26,
   "id": "4b807a87",
   "metadata": {},
   "outputs": [],
   "source": [
    "\n",
    "from sklearn.datasets import load_wine\n",
    "wine = load_wine()\n",
    "x = wine.data # 인풋으로 사용할 데이터\n",
    "y = wine.target # 아웃풋, target으로 사용할 데이터\n",
    "col_names = wine.feature_names # 인풋으로 사용할 데이터의 컬럼별 이름들"
   ]
  },
  {
   "cell_type": "code",
   "execution_count": 27,
   "id": "8d0d615c",
   "metadata": {},
   "outputs": [
    {
     "data": {
      "text/plain": [
       "(178, 13)"
      ]
     },
     "execution_count": 27,
     "metadata": {},
     "output_type": "execute_result"
    }
   ],
   "source": [
    "\n",
    "import matplotlib.pyplot as plt\n",
    "\n",
    "import numpy as np\n",
    "\n",
    "x.shape"
   ]
  },
  {
   "cell_type": "code",
   "execution_count": 28,
   "id": "314c65aa",
   "metadata": {},
   "outputs": [],
   "source": [
    "\n",
    "from sklearn.model_selection import train_test_split\n",
    "x_train, x_valid, y_train, y_valid = train_test_split(x, y, test_size = 0.2, stratify = y, random_state = 2021 )"
   ]
  },
  {
   "cell_type": "code",
   "execution_count": 30,
   "id": "34473676",
   "metadata": {},
   "outputs": [],
   "source": [
    "from sklearn.tree import DecisionTreeClassifier\n",
    "trees = []\n",
    "for i in range(1,16):\n",
    "    tr = DecisionTreeClassifier(max_depth = i,min_samples_leaf=10, random_state = 2021)\n",
    "    tr.fit(x_train,y_train)\n",
    "    trees.append(tr)"
   ]
  },
  {
   "cell_type": "code",
   "execution_count": 31,
   "id": "68ca773c",
   "metadata": {},
   "outputs": [],
   "source": [
    "\n",
    "from sklearn.metrics import accuracy_score\n",
    "accs = []\n",
    "\n",
    "for i in range(0,15):\n",
    "    predicted = trees[i].predict(x_valid)\n",
    "    accs.append(accuracy_score(y_valid, predicted)) "
   ]
  },
  {
   "cell_type": "code",
   "execution_count": 32,
   "id": "e044e798",
   "metadata": {},
   "outputs": [
    {
     "data": {
      "image/png": "[encoded data removed]",
      "text/plain": [
       "<Figure size 432x288 with 1 Axes>"
      ]
     },
     "metadata": {
      "needs_background": "light"
     },
     "output_type": "display_data"
    }
   ],
   "source": [
    "\n",
    "plt.plot(accs)\n",
    "plt.show()\n",
    "dep_m = accs.index(max(accs))\n"
   ]
  },
  {
   "cell_type": "code",
   "execution_count": 34,
   "id": "46f20fce",
   "metadata": {},
   "outputs": [],
   "source": [
    "\n",
    "trees=[]\n",
    "for i in range(5,16):\n",
    "    tr = DecisionTreeClassifier(max_depth = dep_m,min_samples_leaf=i, random_state = 2021)\n",
    "    trees.append(tr.fit(x_train,y_train))"
   ]
  },
  {
   "cell_type": "code",
   "execution_count": 35,
   "id": "70ae7a27",
   "metadata": {},
   "outputs": [],
   "source": [
    "\n",
    "accs = []\n",
    "for i in range(0,10):\n",
    "    predicted = trees[i].predict(x_valid)\n",
    "    accs.append(accuracy_score(y_valid, predicted)) \n"
   ]
  },
  {
   "cell_type": "code",
   "execution_count": 36,
   "id": "f9595e8e",
   "metadata": {},
   "outputs": [
    {
     "data": {
      "image/png": "[encoded data removed]",
      "text/plain": [
       "<Figure size 432x288 with 1 Axes>"
      ]
     },
     "metadata": {
      "needs_background": "light"
     },
     "output_type": "display_data"
    }
   ],
   "source": [
    "\n",
    "plt.plot(accs)\n",
    "sam_m = accs.index(max(accs)) + 1"
   ]
  },
  {
   "cell_type": "code",
   "execution_count": 38,
   "id": "1318fe74",
   "metadata": {},
   "outputs": [
    {
     "name": "stdout",
     "output_type": "stream",
     "text": [
      "alcohol : 0, Score: 0.00000\n",
      "malic_acid : 1, Score: 0.00000\n",
      "ash : 2, Score: 0.02522\n",
      "alcalinity_of_ash : 3, Score: 0.00000\n",
      "magnesium : 4, Score: 0.00000\n",
      "total_phenols : 5, Score: 0.00000\n",
      "flavanoids : 6, Score: 0.50579\n",
      "nonflavanoid_phenols : 7, Score: 0.00000\n",
      "proanthocyanins : 8, Score: 0.00000\n",
      "color_intensity : 9, Score: 0.46899\n",
      "hue : 10, Score: 0.00000\n",
      "od280/od315_of_diluted_wines : 11, Score: 0.00000\n",
      "proline : 12, Score: 0.00000\n"
     ]
    },
    {
     "data": {
      "image/png": "[encoded data removed]",
      "text/plain": [
       "<Figure size 432x288 with 1 Axes>"
      ]
     },
     "metadata": {
      "needs_background": "light"
     },
     "output_type": "display_data"
    }
   ],
   "source": [
    "\n",
    "tr = DecisionTreeClassifier(max_depth = dep_m,min_samples_leaf=sam_m, random_state = 2021)\n",
    "tr.fit(x_train,y_train)\n",
    "# get importance\n",
    "importance = tr.feature_importances_\n",
    "# summarize feature importance\n",
    "for i,v in enumerate(importance):\n",
    "    print(col_names[i],': %0d, Score: %.5f' % (i,v))\n",
    "# plot feature importance\n",
    "plt.plot([x for x in range(len(importance))], importance)\n",
    "plt.show()\n"
   ]
  },
  {
   "cell_type": "code",
   "execution_count": 39,
   "id": "90df7e98",
   "metadata": {},
   "outputs": [
    {
     "data": {
      "text/plain": [
       "0.9166666666666666"
      ]
     },
     "execution_count": 39,
     "metadata": {},
     "output_type": "execute_result"
    }
   ],
   "source": [
    "\n",
    "predicted = tr.predict(x_valid)\n",
    "accuracy_score(y_valid, predicted)\n"
   ]
  },
  {
   "cell_type": "code",
   "execution_count": 40,
   "id": "d72ede93",
   "metadata": {},
   "outputs": [],
   "source": [
    "\n",
    "import tensorflow as tf\n",
    "from tensorflow import keras\n",
    "from tensorflow.keras.layers import Input, Dense, Dropout\n",
    "from tensorflow.keras.models import Sequential, Model\n",
    "from tensorflow.keras.callbacks import EarlyStopping\n"
   ]
  },
  {
   "cell_type": "markdown",
   "id": "c5376b15",
   "metadata": {},
   "source": [
    "\n",
    "# ### **Q13. 아래 조건에 맞추어 뉴럴네트워크 모델을 학습시키시기 바랍니다.**\n",
    "# * **\n",
    "# - Tensorflow framework를 사용한다.\n",
    "# - 히든레이어는 아래와 같은 규칙에 맞추어 구성합니다.\n",
    "#     * 2개 이상의 fully connected layer를 사용할 것\n",
    "#     * Drop out 테크닉을 적절히 활용한다.\n",
    "# - Early stopping을 이용하여, validation loss가 10번 이상 개선되지 않으면 학습을 중단 시키고, 가장 성능이 좋았을 때의 가중치를 복구한다.\n",
    "# - 학습과정의 로그(loss, accuracy)를 history에 선언하여 남긴다.\n",
    "# - y를 별도로 원핫인코딩 하지 않고 분류모델을 학습시킬 수 있도록 한다.(loss function을 sparse_categorical_crossentropy 로 사용한다)\n",
    "# - epochs는 2000번을 지정한다.\n",
    "# ---\n",
    "\n",
    "# In[27]:"
   ]
  },
  {
   "cell_type": "code",
   "execution_count": 49,
   "id": "3d56979a",
   "metadata": {},
   "outputs": [
    {
     "name": "stdout",
     "output_type": "stream",
     "text": [
      "Epoch 1/2000\n",
      "4/4 [==============================] - 0s 31ms/step - loss: 35.5218 - mse: 1.1992 - val_loss: 20.7432 - val_mse: 1.0460\n",
      "\n",
      "Epoch 00001: saving model to training_1\\cp.ckpt\n",
      "Epoch 2/2000\n",
      "4/4 [==============================] - 0s 5ms/step - loss: 26.3239 - mse: 1.2084 - val_loss: 31.0058 - val_mse: 1.0460\n",
      "\n",
      "Epoch 00002: saving model to training_1\\cp.ckpt\n",
      "Epoch 3/2000\n",
      "4/4 [==============================] - 0s 5ms/step - loss: 21.5330 - mse: 1.2101 - val_loss: 14.2430 - val_mse: 1.0460\n",
      "\n",
      "Epoch 00003: saving model to training_1\\cp.ckpt\n",
      "Epoch 4/2000\n",
      "4/4 [==============================] - 0s 5ms/step - loss: 15.3289 - mse: 1.1992 - val_loss: 6.5230 - val_mse: 1.0278\n",
      "\n",
      "Epoch 00004: saving model to training_1\\cp.ckpt\n",
      "Epoch 5/2000\n",
      "4/4 [==============================] - 0s 5ms/step - loss: 11.4933 - mse: 1.1916 - val_loss: 8.2092 - val_mse: 1.0419\n",
      "\n",
      "Epoch 00005: saving model to training_1\\cp.ckpt\n",
      "Epoch 6/2000\n",
      "4/4 [==============================] - 0s 5ms/step - loss: 10.1458 - mse: 1.1859 - val_loss: 10.7661 - val_mse: 1.0436\n",
      "\n",
      "Epoch 00006: saving model to training_1\\cp.ckpt\n",
      "Epoch 7/2000\n",
      "4/4 [==============================] - 0s 5ms/step - loss: 8.2583 - mse: 1.1880 - val_loss: 10.2241 - val_mse: 1.0410\n",
      "\n",
      "Epoch 00007: saving model to training_1\\cp.ckpt\n",
      "Epoch 8/2000\n",
      "4/4 [==============================] - 0s 5ms/step - loss: 9.0951 - mse: 1.1914 - val_loss: 9.8983 - val_mse: 1.0421\n",
      "\n",
      "Epoch 00008: saving model to training_1\\cp.ckpt\n",
      "Epoch 9/2000\n",
      "4/4 [==============================] - 0s 5ms/step - loss: 8.0484 - mse: 1.1896 - val_loss: 8.7445 - val_mse: 1.0372\n",
      "\n",
      "Epoch 00009: saving model to training_1\\cp.ckpt\n",
      "Epoch 10/2000\n",
      "4/4 [==============================] - 0s 5ms/step - loss: 6.1498 - mse: 1.1816 - val_loss: 6.3015 - val_mse: 1.0291\n",
      "\n",
      "Epoch 00010: saving model to training_1\\cp.ckpt\n",
      "Epoch 11/2000\n",
      "4/4 [==============================] - 0s 5ms/step - loss: 6.1976 - mse: 1.1734 - val_loss: 6.7948 - val_mse: 1.0336\n",
      "\n",
      "Epoch 00011: saving model to training_1\\cp.ckpt\n",
      "Epoch 12/2000\n",
      "4/4 [==============================] - 0s 5ms/step - loss: 6.9461 - mse: 1.1944 - val_loss: 4.5477 - val_mse: 1.0303\n",
      "\n",
      "Epoch 00012: saving model to training_1\\cp.ckpt\n",
      "Epoch 13/2000\n",
      "4/4 [==============================] - 0s 5ms/step - loss: 7.1301 - mse: 1.1931 - val_loss: 5.3174 - val_mse: 1.0224\n",
      "\n",
      "Epoch 00013: saving model to training_1\\cp.ckpt\n",
      "Epoch 14/2000\n",
      "4/4 [==============================] - 0s 5ms/step - loss: 6.1355 - mse: 1.1800 - val_loss: 7.2353 - val_mse: 1.0300\n",
      "\n",
      "Epoch 00014: saving model to training_1\\cp.ckpt\n",
      "Epoch 15/2000\n",
      "4/4 [==============================] - 0s 5ms/step - loss: 5.3947 - mse: 1.1743 - val_loss: 4.6375 - val_mse: 1.0160\n",
      "\n",
      "Epoch 00015: saving model to training_1\\cp.ckpt\n",
      "Epoch 16/2000\n",
      "4/4 [==============================] - 0s 5ms/step - loss: 5.6392 - mse: 1.1890 - val_loss: 1.5186 - val_mse: 0.9875\n",
      "\n",
      "Epoch 00016: saving model to training_1\\cp.ckpt\n",
      "Epoch 17/2000\n",
      "4/4 [==============================] - 0s 8ms/step - loss: 5.5226 - mse: 1.1792 - val_loss: 4.1902 - val_mse: 1.0104\n",
      "\n",
      "Epoch 00017: saving model to training_1\\cp.ckpt\n",
      "Epoch 18/2000\n",
      "4/4 [==============================] - 0s 6ms/step - loss: 5.2796 - mse: 1.1804 - val_loss: 6.1212 - val_mse: 1.0141\n",
      "\n",
      "Epoch 00018: saving model to training_1\\cp.ckpt\n",
      "Epoch 19/2000\n",
      "4/4 [==============================] - 0s 6ms/step - loss: 6.0898 - mse: 1.1791 - val_loss: 2.0721 - val_mse: 0.9973\n",
      "\n",
      "Epoch 00019: saving model to training_1\\cp.ckpt\n",
      "Epoch 20/2000\n",
      "4/4 [==============================] - 0s 6ms/step - loss: 3.9211 - mse: 1.1761 - val_loss: 1.5526 - val_mse: 0.9959\n",
      "\n",
      "Epoch 00020: saving model to training_1\\cp.ckpt\n",
      "Epoch 21/2000\n",
      "4/4 [==============================] - 0s 5ms/step - loss: 4.5164 - mse: 1.1848 - val_loss: 2.1465 - val_mse: 0.9684\n",
      "\n",
      "Epoch 00021: saving model to training_1\\cp.ckpt\n",
      "Epoch 22/2000\n",
      "4/4 [==============================] - 0s 5ms/step - loss: 4.7349 - mse: 1.1872 - val_loss: 3.9622 - val_mse: 1.0097\n",
      "\n",
      "Epoch 00022: saving model to training_1\\cp.ckpt\n",
      "Epoch 23/2000\n",
      "4/4 [==============================] - 0s 6ms/step - loss: 3.8180 - mse: 1.1755 - val_loss: 1.3900 - val_mse: 0.9454\n",
      "\n",
      "Epoch 00023: saving model to training_1\\cp.ckpt\n",
      "Epoch 24/2000\n",
      "4/4 [==============================] - 0s 5ms/step - loss: 3.4052 - mse: 1.1709 - val_loss: 1.7623 - val_mse: 0.9834\n",
      "\n",
      "Epoch 00024: saving model to training_1\\cp.ckpt\n",
      "Epoch 25/2000\n",
      "4/4 [==============================] - 0s 5ms/step - loss: 3.2234 - mse: 1.1772 - val_loss: 1.9168 - val_mse: 0.9754\n",
      "\n",
      "Epoch 00025: saving model to training_1\\cp.ckpt\n",
      "Epoch 26/2000\n",
      "4/4 [==============================] - 0s 5ms/step - loss: 3.4269 - mse: 1.1721 - val_loss: 1.9990 - val_mse: 0.9832\n",
      "\n",
      "Epoch 00026: saving model to training_1\\cp.ckpt\n",
      "Epoch 27/2000\n",
      "4/4 [==============================] - 0s 5ms/step - loss: 2.9625 - mse: 1.1598 - val_loss: 1.6927 - val_mse: 0.9860\n",
      "\n",
      "Epoch 00027: saving model to training_1\\cp.ckpt\n",
      "Epoch 28/2000\n",
      "4/4 [==============================] - 0s 6ms/step - loss: 3.8530 - mse: 1.1891 - val_loss: 1.4255 - val_mse: 1.0000\n",
      "\n",
      "Epoch 00028: saving model to training_1\\cp.ckpt\n",
      "Epoch 29/2000\n",
      "4/4 [==============================] - 0s 5ms/step - loss: 3.0380 - mse: 1.1745 - val_loss: 1.4858 - val_mse: 0.9418\n",
      "\n",
      "Epoch 00029: saving model to training_1\\cp.ckpt\n",
      "Epoch 30/2000\n",
      "4/4 [==============================] - 0s 5ms/step - loss: 3.0494 - mse: 1.1728 - val_loss: 1.3251 - val_mse: 0.9573\n",
      "\n",
      "Epoch 00030: saving model to training_1\\cp.ckpt\n",
      "Epoch 31/2000\n",
      "4/4 [==============================] - 0s 5ms/step - loss: 2.9765 - mse: 1.1728 - val_loss: 0.9562 - val_mse: 0.9550\n",
      "\n",
      "Epoch 00031: saving model to training_1\\cp.ckpt\n",
      "Epoch 32/2000\n",
      "4/4 [==============================] - 0s 5ms/step - loss: 2.8081 - mse: 1.1672 - val_loss: 1.6960 - val_mse: 0.9744\n",
      "\n",
      "Epoch 00032: saving model to training_1\\cp.ckpt\n",
      "Epoch 33/2000\n",
      "4/4 [==============================] - 0s 5ms/step - loss: 2.7769 - mse: 1.1712 - val_loss: 1.2867 - val_mse: 0.9503\n",
      "\n",
      "Epoch 00033: saving model to training_1\\cp.ckpt\n",
      "Epoch 34/2000\n",
      "4/4 [==============================] - 0s 5ms/step - loss: 2.4019 - mse: 1.1546 - val_loss: 1.1866 - val_mse: 0.9618\n",
      "\n",
      "Epoch 00034: saving model to training_1\\cp.ckpt\n",
      "Epoch 35/2000\n",
      "4/4 [==============================] - 0s 5ms/step - loss: 2.6239 - mse: 1.1570 - val_loss: 1.1334 - val_mse: 0.9521\n",
      "\n",
      "Epoch 00035: saving model to training_1\\cp.ckpt\n",
      "Epoch 36/2000\n",
      "4/4 [==============================] - 0s 5ms/step - loss: 2.7185 - mse: 1.1707 - val_loss: 1.1255 - val_mse: 0.9681\n",
      "\n",
      "Epoch 00036: saving model to training_1\\cp.ckpt\n",
      "Epoch 37/2000\n",
      "4/4 [==============================] - 0s 5ms/step - loss: 2.8329 - mse: 1.1743 - val_loss: 1.3967 - val_mse: 0.9691\n",
      "\n",
      "Epoch 00037: saving model to training_1\\cp.ckpt\n",
      "Epoch 38/2000\n",
      "4/4 [==============================] - 0s 5ms/step - loss: 2.9444 - mse: 1.1599 - val_loss: 1.0834 - val_mse: 0.9522\n",
      "\n",
      "Epoch 00038: saving model to training_1\\cp.ckpt\n",
      "Epoch 39/2000\n",
      "4/4 [==============================] - 0s 5ms/step - loss: 2.9171 - mse: 1.1512 - val_loss: 1.6517 - val_mse: 0.9727\n",
      "\n",
      "Epoch 00039: saving model to training_1\\cp.ckpt\n",
      "Epoch 40/2000\n",
      "4/4 [==============================] - 0s 5ms/step - loss: 2.6978 - mse: 1.1690 - val_loss: 1.4672 - val_mse: 0.9480\n",
      "\n",
      "Epoch 00040: saving model to training_1\\cp.ckpt\n",
      "Epoch 41/2000\n",
      "4/4 [==============================] - 0s 6ms/step - loss: 2.5817 - mse: 1.1739 - val_loss: 1.3461 - val_mse: 0.9545\n",
      "\n",
      "Epoch 00041: saving model to training_1\\cp.ckpt\n",
      "Epoch 00041: early stopping\n"
     ]
    },
    {
     "data": {
      "text/plain": [
       "<tensorflow.python.training.tracking.util.CheckpointLoadStatus at 0x22687312340>"
      ]
     },
     "execution_count": 49,
     "metadata": {},
     "output_type": "execute_result"
    }
   ],
   "source": [
    "\n",
    "import os\n",
    "#from keras.optimizers import Adam\n",
    "from keras.optimizer_v2.adam import Adam\n",
    "from tensorflow.keras.callbacks import ModelCheckpoint\n",
    "\n",
    "model = Sequential()\n",
    "\n",
    "model.add(Dense(64, activation='relu', input_shape=(13,)))\n",
    "model.add(Dropout(0.3))\n",
    "model.add(Dense(64, activation='relu'))\n",
    "model.add(Dense(64, activation='relu'))\n",
    "model.add(Dense(3, activation = 'softmax'))\n",
    "\n",
    "model.compile(loss='sparse_categorical_crossentropy', optimizer='Adam', metrics=['mse'])\n",
    "\n",
    "es = EarlyStopping(monitor='val_loss', mode='min', verbose=1, patience=10)\n",
    "\n",
    "\n",
    "checkpoint_path = \"training_1/cp.ckpt\"\n",
    "checkpoint_dir = os.path.dirname(checkpoint_path)\n",
    "cp_callback = tf.keras.callbacks.ModelCheckpoint(filepath=checkpoint_path,\n",
    "                                                 save_weights_only=True,\n",
    "                                                 verbose=1\n",
    "                                               )\n",
    "history = model.fit(x_train, y_train, epochs=2000,  \n",
    "\n",
    "                  verbose=1, validation_split=0.2,   \n",
    "\n",
    "                 callbacks=[es,cp_callback])\n",
    "\n",
    "model.load_weights(checkpoint_path)\n"
   ]
  },
  {
   "cell_type": "code",
   "execution_count": 48,
   "id": "5b57881b",
   "metadata": {},
   "outputs": [
    {
     "data": {
      "text/plain": [
       "array([1, 2, 1, 2, 1, 1, 0, 0, 2, 2, 0, 1, 0, 2, 1, 2, 0, 1, 1, 1, 1, 0,\n",
       "       0, 1, 1, 1, 2, 2, 0, 0, 2, 1, 0, 0, 1, 0, 2, 0, 1, 2, 2, 1, 0, 2,\n",
       "       0, 1, 1, 0, 0, 1, 2, 1, 0, 0, 1, 1, 1, 1, 0, 1, 2, 0, 2, 0, 0, 0,\n",
       "       0, 1, 1, 2, 2, 1, 1, 2, 0, 1, 1, 2, 2, 2, 0, 1, 0, 2, 0, 1, 1, 2,\n",
       "       1, 0, 0, 2, 1, 0, 2, 1, 1, 0, 0, 1, 2, 0, 1, 1, 0, 0, 2, 2, 0, 1,\n",
       "       2, 2, 2, 1, 2, 0, 0, 1, 2, 1, 1, 1, 2, 2, 2, 0, 1, 0, 1, 0, 1, 1,\n",
       "       2, 1, 1, 1, 0, 1, 0, 1, 0, 0])"
      ]
     },
     "execution_count": 48,
     "metadata": {},
     "output_type": "execute_result"
    }
   ],
   "source": [
    "y_train\n"
   ]
  },
  {
   "cell_type": "code",
   "execution_count": 50,
   "id": "b245b322",
   "metadata": {},
   "outputs": [],
   "source": [
    "\n",
    "# 여기에 답안코드를 작성하세요\n",
    "\n",
    "\n",
    "# ### **Q14. 다음 조건에 맞추어 뉴럴네트워크의 학습 로그를 시각화 하시기 바랍니다.**\n",
    "# * **\n",
    "# - 필요한 라이브러리가 있다면 따로 불러온다.\n",
    "# - epochs에 따른 loss의 변화를 시각화 한다.\n",
    "# - train loss와 validation loss를 전부 시각화하고, 구별가능해야 한다.\n",
    "# - 그래프의 타이틀은 'Loss'로 표시한다.\n",
    "# - x축에는 'epochs'라고 표시하고 y축에는 'Loss'라고 표시한다.\n",
    "# - 위에서 학습한 머신러닝 모델과 성능을 비교해보시오. \n",
    "# ---\n",
    "\n",
    "# In[28]:\n",
    "\n"
   ]
  },
  {
   "cell_type": "code",
   "execution_count": 51,
   "id": "a83b16dc",
   "metadata": {},
   "outputs": [
    {
     "data": {
      "image/png": "[encoded data removed]",
      "text/plain": [
       "<Figure size 432x288 with 1 Axes>"
      ]
     },
     "metadata": {
      "needs_background": "light"
     },
     "output_type": "display_data"
    }
   ],
   "source": [
    "\n",
    "h = history\n",
    "plt.plot(h.history['loss'])\n",
    "plt.plot(h.history['val_loss'])\n",
    "plt.title('Loss')\n",
    "plt.xlabel('epochs')\n",
    "plt.ylabel(\"loss\")\n",
    "plt.show()"
   ]
  },
  {
   "cell_type": "code",
   "execution_count": null,
   "id": "c5e74b6a",
   "metadata": {},
   "outputs": [],
   "source": []
  }
 ],
 "metadata": {
  "kernelspec": {
   "display_name": "Python 3",
   "language": "python",
   "name": "python3"
  },
  "language_info": {
   "codemirror_mode": {
    "name": "ipython",
    "version": 3
   },
   "file_extension": ".py",
   "mimetype": "text/x-python",
   "name": "python",
   "nbconvert_exporter": "python",
   "pygments_lexer": "ipython3",
   "version": "3.8.10"
  }
 },
 "nbformat": 4,
 "nbformat_minor": 5
}
