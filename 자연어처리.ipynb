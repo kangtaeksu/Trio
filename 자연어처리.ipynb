{
  "nbformat": 4,
  "nbformat_minor": 0,
  "metadata": {
    "accelerator": "GPU",
    "colab": {
      "name": "TF Certificate Category 4 (강의)의 사본의 사본",
      "provenance": [],
      "collapsed_sections": [],
      "include_colab_link": true
    },
    "kernelspec": {
      "display_name": "Python 3",
      "language": "python",
      "name": "python3"
    },
    "language_info": {
      "codemirror_mode": {
        "name": "ipython",
        "version": 3
      },
      "file_extension": ".py",
      "mimetype": "text/x-python",
      "name": "python",
      "nbconvert_exporter": "python",
      "pygments_lexer": "ipython3",
      "version": "3.6.6"
    }
  },
  "cells": [
    {
      "cell_type": "markdown",
      "metadata": {
        "id": "view-in-github",
        "colab_type": "text"
      },
      "source": [
        "<a href=\"https://colab.research.google.com/github/kangtaeksu/Trio/blob/main/%EC%9E%90%EC%97%B0%EC%96%B4%EC%B2%98%EB%A6%AC.ipynb\" target=\"_parent\"><img src=\"https://colab.research.google.com/assets/colab-badge.svg\" alt=\"Open In Colab\"/></a>"
      ]
    },
    {
      "cell_type": "markdown",
      "metadata": {
        "id": "sCmtzkeGPI2Q"
      },
      "source": [
        "# Category 4\n",
        "\n",
        "RNN 을 활용한 텍스트 분류 (Text Classification)"
      ]
    },
    {
      "cell_type": "markdown",
      "metadata": {
        "id": "iRSKbgK8PRs5"
      },
      "source": [
        "## 확인"
      ]
    },
    {
      "cell_type": "markdown",
      "metadata": {
        "id": "Fc4QcKvRPSj-"
      },
      "source": [
        "1. GPU 옵션 켜져 있는지 확인할 것!!! (수정 - 노트설정 - 하드웨어설정 (GPU))"
      ]
    },
    {
      "cell_type": "markdown",
      "metadata": {
        "id": "JNPjnA62PXVn"
      },
      "source": [
        "## 순서"
      ]
    },
    {
      "cell_type": "markdown",
      "metadata": {
        "id": "T463L0aPPX_n"
      },
      "source": [
        "1. **import**: 필요한 모듈 import\n",
        "2. **전처리**: 학습에 필요한 데이터 전처리를 수행합니다.\n",
        "3. **모델링(model)**: 모델을 정의합니다.\n",
        "4. **컴파일(compile)**: 모델을 생성합니다.\n",
        "5. **학습 (fit)**: 모델을 학습시킵니다."
      ]
    },
    {
      "cell_type": "markdown",
      "metadata": {
        "id": "W1Hj9c1NPbPu"
      },
      "source": [
        "## 문제"
      ]
    },
    {
      "cell_type": "markdown",
      "metadata": {
        "id": "RcvEYUuhPb3f"
      },
      "source": [
        "NLP QUESTION\n",
        "\n",
        "For this task you will build a classifier for the sarcasm dataset\n",
        "The classifier should have a final layer with 1 neuron activated by sigmoid as shown.<br/><br/>\n",
        "It will be tested against a number of sentences that the network hasn't previously seen<br/>\n",
        "And you will be scored on whether sarcasm was correctly detected in those sentences\n",
        "\n",
        "\n",
        "-------------------------------\n",
        "**자연어 처리**<br/><br/>\n",
        "이 작업에서는 sarcasm 데이터 세트에 대한 분류기를 작성합니다.\n",
        "분류기는 1 개의 뉴런으로 이루어진 sigmoid 활성함수로 구성된 최종 층을 가져야합니다.<br/>\n",
        "제출될 모델은 데이터셋이 없는 여러 문장에 대해 테스트됩니다.\n",
        "그리고 당신은 그 문장에서 sarcasm 판별이 제대로 감지되었는지에 따라 점수를 받게 될 것입니다\n"
      ]
    },
    {
      "cell_type": "markdown",
      "metadata": {
        "id": "7C3ewm9XQHgr"
      },
      "source": [
        "-----------------------------------\n"
      ]
    },
    {
      "cell_type": "markdown",
      "metadata": {
        "id": "YE_gqvyN3Ato"
      },
      "source": [
        "## 필요한 모듈 import"
      ]
    },
    {
      "cell_type": "code",
      "metadata": {
        "id": "HKMbpxX8Ro-h"
      },
      "source": [
        "import json\n",
        "import tensorflow as tf\n",
        "import numpy as np\n",
        "import urllib\n",
        "\n",
        "from tensorflow.keras.preprocessing.text import Tokenizer\n",
        "from tensorflow.keras.preprocessing.sequence import pad_sequences\n",
        "from tensorflow.keras.layers import Embedding, LSTM, Dense, Bidirectional, Flatten\n",
        "from tensorflow.keras.models import Sequential\n",
        "from tensorflow.keras.callbacks import ModelCheckpoint"
      ],
      "execution_count": null,
      "outputs": []
    },
    {
      "cell_type": "markdown",
      "metadata": {
        "id": "wEf5XJJE38vl"
      },
      "source": [
        "## 필요한 데이터 셋 다운로드"
      ]
    },
    {
      "cell_type": "code",
      "metadata": {
        "id": "7FLOv_TrRo-m",
        "colab": {
          "base_uri": "https://localhost:8080/"
        },
        "outputId": "c932cfd1-1846-4c42-8616-7b9726bb1846"
      },
      "source": [
        "url = 'https://storage.googleapis.com/download.tensorflow.org/data/sarcasm.json'\n",
        "urllib.request.urlretrieve(url, 'sarcasm.json') # json 파일로 받아들임"
      ],
      "execution_count": null,
      "outputs": [
        {
          "output_type": "execute_result",
          "data": {
            "text/plain": [
              "('sarcasm.json', <http.client.HTTPMessage at 0x7fd4d9f11278>)"
            ]
          },
          "metadata": {
            "tags": []
          },
          "execution_count": 2
        }
      ]
    },
    {
      "cell_type": "markdown",
      "metadata": {
        "id": "EXNFkRYERo-u"
      },
      "source": [
        "## Json 파일 로드"
      ]
    },
    {
      "cell_type": "markdown",
      "metadata": {
        "id": "5vTO4qdw5rUh"
      },
      "source": [
        "`datas` 변수에 `json`을 활용하여 로드"
      ]
    },
    {
      "cell_type": "code",
      "metadata": {
        "id": "yBg4ZmnKRo-v"
      },
      "source": [
        "with open('sarcasm.json') as f:\n",
        "    datas = json.load(f)"
      ],
      "execution_count": null,
      "outputs": []
    },
    {
      "cell_type": "code",
      "metadata": {
        "colab": {
          "base_uri": "https://localhost:8080/"
        },
        "id": "e-r75u2v2U5v",
        "outputId": "b58b9a40-ae87-4a2d-ab02-e02ed5d3256c"
      },
      "source": [
        "print(len(datas)) # 데이터 전ㄴ체 26,709 개!"
      ],
      "execution_count": null,
      "outputs": [
        {
          "output_type": "stream",
          "text": [
            "26709\n"
          ],
          "name": "stdout"
        }
      ]
    },
    {
      "cell_type": "markdown",
      "metadata": {
        "id": "bI31En1o5p7R"
      },
      "source": [
        "`datas` 5개  출력\n",
        "\n",
        "* `article_link`: 뉴스 기사 URL\n",
        "* `headline`: 뉴스기사의 제목\n",
        "* `is_sarcastic`: 비꼬는 기사 여부 (비꼼: 1, 일반: 0)"
      ]
    },
    {
      "cell_type": "code",
      "metadata": {
        "id": "Ylqxc8fcRo-0",
        "colab": {
          "base_uri": "https://localhost:8080/"
        },
        "outputId": "525af7d2-ce80-40ed-e7ea-be3bedf4abfc"
      },
      "source": [
        "datas[:5] # 아래 결과 중 article link는 실제 신문 기사이므로 그것까지 쓰지 않고 제목만 갖고 비꼬는지 아닌지를 판단할 것임"
      ],
      "execution_count": null,
      "outputs": [
        {
          "output_type": "execute_result",
          "data": {
            "text/plain": [
              "[{'article_link': 'https://www.huffingtonpost.com/entry/versace-black-code_us_5861fbefe4b0de3a08f600d5',\n",
              "  'headline': \"former versace store clerk sues over secret 'black code' for minority shoppers\",\n",
              "  'is_sarcastic': 0},\n",
              " {'article_link': 'https://www.huffingtonpost.com/entry/roseanne-revival-review_us_5ab3a497e4b054d118e04365',\n",
              "  'headline': \"the 'roseanne' revival catches up to our thorny political mood, for better and worse\",\n",
              "  'is_sarcastic': 0},\n",
              " {'article_link': 'https://local.theonion.com/mom-starting-to-fear-son-s-web-series-closest-thing-she-1819576697',\n",
              "  'headline': \"mom starting to fear son's web series closest thing she will have to grandchild\",\n",
              "  'is_sarcastic': 1},\n",
              " {'article_link': 'https://politics.theonion.com/boehner-just-wants-wife-to-listen-not-come-up-with-alt-1819574302',\n",
              "  'headline': 'boehner just wants wife to listen, not come up with alternative debt-reduction ideas',\n",
              "  'is_sarcastic': 1},\n",
              " {'article_link': 'https://www.huffingtonpost.com/entry/jk-rowling-wishes-snape-happy-birthday_us_569117c4e4b0cad15e64fdcb',\n",
              "  'headline': 'j.k. rowling wishes snape happy birthday in the most magical way',\n",
              "  'is_sarcastic': 0}]"
            ]
          },
          "metadata": {
            "tags": []
          },
          "execution_count": 5
        }
      ]
    },
    {
      "cell_type": "markdown",
      "metadata": {
        "id": "M2JA-GrVRo-4"
      },
      "source": [
        "## 전처리: 데이터셋 구성(sentences, labels)"
      ]
    },
    {
      "cell_type": "markdown",
      "metadata": {
        "id": "kes4D7Q-7r1n"
      },
      "source": [
        "* X (Feature): sentences\n",
        "* Y (Label): label"
      ]
    },
    {
      "cell_type": "markdown",
      "metadata": {
        "id": "Rrr_slKl8CMl"
      },
      "source": [
        "빈 list를 생성합니다. (sentences, labels)"
      ]
    },
    {
      "cell_type": "code",
      "metadata": {
        "id": "zgUxM1Rh7_-t"
      },
      "source": [
        "sentences = []\n",
        "labels = []"
      ],
      "execution_count": null,
      "outputs": []
    },
    {
      "cell_type": "code",
      "metadata": {
        "id": "evOur3s7Ro_G"
      },
      "source": [
        "for data in datas:\n",
        "    sentences.append(data['headline'])\n",
        "    labels.append(data['is_sarcastic'])"
      ],
      "execution_count": null,
      "outputs": []
    },
    {
      "cell_type": "markdown",
      "metadata": {
        "id": "ehP3G-b18Sgx"
      },
      "source": [
        "문장 5개를 출력합니다."
      ]
    },
    {
      "cell_type": "code",
      "metadata": {
        "id": "QxkCHeN-Ro_J",
        "colab": {
          "base_uri": "https://localhost:8080/"
        },
        "outputId": "508b3452-b0eb-4806-a706-2f309d43a488"
      },
      "source": [
        "sentences[:5]"
      ],
      "execution_count": null,
      "outputs": [
        {
          "output_type": "execute_result",
          "data": {
            "text/plain": [
              "[\"former versace store clerk sues over secret 'black code' for minority shoppers\",\n",
              " \"the 'roseanne' revival catches up to our thorny political mood, for better and worse\",\n",
              " \"mom starting to fear son's web series closest thing she will have to grandchild\",\n",
              " 'boehner just wants wife to listen, not come up with alternative debt-reduction ideas',\n",
              " 'j.k. rowling wishes snape happy birthday in the most magical way']"
            ]
          },
          "metadata": {
            "tags": []
          },
          "execution_count": 10
        }
      ]
    },
    {
      "cell_type": "code",
      "metadata": {
        "id": "7AFuC-5eRo_N",
        "colab": {
          "base_uri": "https://localhost:8080/"
        },
        "outputId": "1aadcbb9-3b17-4fb6-f3fd-07f18ccbb2fe"
      },
      "source": [
        "labels[:5]"
      ],
      "execution_count": null,
      "outputs": [
        {
          "output_type": "execute_result",
          "data": {
            "text/plain": [
              "[0, 0, 1, 1, 0]"
            ]
          },
          "metadata": {
            "tags": []
          },
          "execution_count": 9
        }
      ]
    },
    {
      "cell_type": "markdown",
      "metadata": {
        "id": "kV-gws0ZIDT5"
      },
      "source": [
        "## Train / Validation Set 분리"
      ]
    },
    {
      "cell_type": "markdown",
      "metadata": {
        "id": "7ui0tLP38ziX"
      },
      "source": [
        "20,000개를 기준으로 **데이터셋을 분리**합니다.\n"
      ]
    },
    {
      "cell_type": "code",
      "metadata": {
        "id": "AP_9RTOFIDT7"
      },
      "source": [
        "training_size = 20000"
      ],
      "execution_count": null,
      "outputs": []
    },
    {
      "cell_type": "code",
      "metadata": {
        "id": "QbKerNkAIDUC"
      },
      "source": [
        "train_sentences = sentences[:training_size]\n",
        "train_labels = labels[:training_size]"
      ],
      "execution_count": null,
      "outputs": []
    },
    {
      "cell_type": "code",
      "metadata": {
        "id": "VUv12RFJIDUJ"
      },
      "source": [
        "validation_sentences = sentences[training_size:]\n",
        "validation_labels = labels[training_size:]"
      ],
      "execution_count": null,
      "outputs": []
    },
    {
      "cell_type": "markdown",
      "metadata": {
        "id": "CEXyUrNHRo_S"
      },
      "source": [
        "## 전처리 Step 1. Tokenizer 정의"
      ]
    },
    {
      "cell_type": "markdown",
      "metadata": {
        "id": "5bgjblALRo_c"
      },
      "source": [
        "단어의 토큰화를 진행합니다.\n",
        "\n",
        "* `num_words`: 단어 max 사이즈를 지정합니다. 가장 **빈도수가 높은** 단어부터 저장합니다.\n",
        "* `oov_token`: 단어 토큰에 없는 단어를 어떻게 표기할 것인지 지정해줍니다."
      ]
    },
    {
      "cell_type": "code",
      "metadata": {
        "id": "CyHzPmsg9aWS"
      },
      "source": [
        "# 이 내역은 변경하면 안됨, 시험에 지정됨\n",
        "vocab_size = 1000 # 전체 단어를 토큰화한 것 중 1000개만 사용할 것임. 빈도수가 높은 것을 기반으로!\n",
        "oov_tok = \"<OOV>\" # Out of vocal 으로 신조어는 치환 시킨다는 것임"
      ],
      "execution_count": null,
      "outputs": []
    },
    {
      "cell_type": "code",
      "metadata": {
        "id": "ORwBwbVIRo_d"
      },
      "source": [
        "tokenizer = Tokenizer(num_words=vocab_size, oov_token='<OOV>') # 토크나이저 스펙 정의"
      ],
      "execution_count": null,
      "outputs": []
    },
    {
      "cell_type": "markdown",
      "metadata": {
        "id": "5c6Nqj8YRo_g"
      },
      "source": [
        "## 전처리 Step 2. Tokenizer로 학습시킬 문장에 대한 토큰화 진행"
      ]
    },
    {
      "cell_type": "markdown",
      "metadata": {
        "id": "oWptwIFq-B9B"
      },
      "source": [
        "`fit_on_texts`로 학습할 문장에 대하여 **토큰화**를 진행합니다."
      ]
    },
    {
      "cell_type": "code",
      "metadata": {
        "id": "mWZFZUFNRo_h"
      },
      "source": [
        "tokenizer.fit_on_texts(train_sentences) # train_sentence는 뉴스 기사 문장으로 이걸 가지고 사전을 만들게 됨"
      ],
      "execution_count": null,
      "outputs": []
    },
    {
      "cell_type": "code",
      "metadata": {
        "id": "_2ZPQndyRo_k",
        "colab": {
          "base_uri": "https://localhost:8080/"
        },
        "outputId": "0f962295-1fb7-42eb-8b41-66f8fa277f78"
      },
      "source": [
        "for key, value in tokenizer.word_index.items():\n",
        "    print('{}  \\t======>\\t {}'.format(key, value))\n",
        "    if value == 25:\n",
        "        break"
      ],
      "execution_count": null,
      "outputs": [
        {
          "output_type": "stream",
          "text": [
            "<OOV>  \t======>\t 1\n",
            "to  \t======>\t 2\n",
            "of  \t======>\t 3\n",
            "the  \t======>\t 4\n",
            "in  \t======>\t 5\n",
            "for  \t======>\t 6\n",
            "a  \t======>\t 7\n",
            "on  \t======>\t 8\n",
            "and  \t======>\t 9\n",
            "with  \t======>\t 10\n",
            "is  \t======>\t 11\n",
            "new  \t======>\t 12\n",
            "trump  \t======>\t 13\n",
            "man  \t======>\t 14\n",
            "from  \t======>\t 15\n",
            "at  \t======>\t 16\n",
            "about  \t======>\t 17\n",
            "you  \t======>\t 18\n",
            "by  \t======>\t 19\n",
            "this  \t======>\t 20\n",
            "after  \t======>\t 21\n",
            "be  \t======>\t 22\n",
            "up  \t======>\t 23\n",
            "out  \t======>\t 24\n",
            "that  \t======>\t 25\n"
          ],
          "name": "stdout"
        }
      ]
    },
    {
      "cell_type": "markdown",
      "metadata": {
        "id": "Proj_AWp-Lsm"
      },
      "source": [
        "토큰화된 **단어 사전의 갯수**"
      ]
    },
    {
      "cell_type": "code",
      "metadata": {
        "id": "Rufbtj6aRo_n",
        "colab": {
          "base_uri": "https://localhost:8080/"
        },
        "outputId": "7b5cb168-7952-4bcb-e078-5280b5d22241"
      },
      "source": [
        "len(tokenizer.word_index) # 단어 사전 개수가 25637개로 만들어졌음.\n",
        "# 근데 vocab 사이즈를 1000으로 했는데?\n",
        "# 왜냐면 사전을 만들때는 우선 다 만들게됨, 치환하는 과정에서 1000 이하의 빈도수를 OOV로 치환하는 것임"
      ],
      "execution_count": null,
      "outputs": [
        {
          "output_type": "execute_result",
          "data": {
            "text/plain": [
              "25637"
            ]
          },
          "metadata": {
            "tags": []
          },
          "execution_count": 18
        }
      ]
    },
    {
      "cell_type": "markdown",
      "metadata": {
        "id": "PFaPeh05-iZQ"
      },
      "source": [
        "단어사전은 **dictionary** 형태로 되어 있습니다. \n",
        "\n",
        "즉, 단어를 key로 입력하면 값을 return 합니다."
      ]
    },
    {
      "cell_type": "code",
      "metadata": {
        "id": "sxvQwbfVA_fk"
      },
      "source": [
        "word_index = tokenizer.word_index # 각 단어의 토큰 순서를 가져옴"
      ],
      "execution_count": null,
      "outputs": []
    },
    {
      "cell_type": "code",
      "metadata": {
        "colab": {
          "base_uri": "https://localhost:8080/"
        },
        "id": "8C645QV03qz3",
        "outputId": "5df204e1-c8b7-44d8-947e-af49773a79f3"
      },
      "source": [
        "word_index"
      ],
      "execution_count": null,
      "outputs": [
        {
          "output_type": "execute_result",
          "data": {
            "text/plain": [
              "{'<OOV>': 1,\n",
              " 'to': 2,\n",
              " 'of': 3,\n",
              " 'the': 4,\n",
              " 'in': 5,\n",
              " 'for': 6,\n",
              " 'a': 7,\n",
              " 'on': 8,\n",
              " 'and': 9,\n",
              " 'with': 10,\n",
              " 'is': 11,\n",
              " 'new': 12,\n",
              " 'trump': 13,\n",
              " 'man': 14,\n",
              " 'from': 15,\n",
              " 'at': 16,\n",
              " 'about': 17,\n",
              " 'you': 18,\n",
              " 'by': 19,\n",
              " 'this': 20,\n",
              " 'after': 21,\n",
              " 'be': 22,\n",
              " 'up': 23,\n",
              " 'out': 24,\n",
              " 'that': 25,\n",
              " 'how': 26,\n",
              " 'as': 27,\n",
              " 'it': 28,\n",
              " 'not': 29,\n",
              " 'are': 30,\n",
              " 'your': 31,\n",
              " 'what': 32,\n",
              " 'his': 33,\n",
              " 'all': 34,\n",
              " 'he': 35,\n",
              " 'will': 36,\n",
              " 'who': 37,\n",
              " 'just': 38,\n",
              " 'has': 39,\n",
              " 'more': 40,\n",
              " 'one': 41,\n",
              " 'year': 42,\n",
              " 'into': 43,\n",
              " 'report': 44,\n",
              " 'have': 45,\n",
              " 'why': 46,\n",
              " 'over': 47,\n",
              " 'area': 48,\n",
              " 'u': 49,\n",
              " 'donald': 50,\n",
              " 'says': 51,\n",
              " 'day': 52,\n",
              " 'can': 53,\n",
              " 's': 54,\n",
              " 'first': 55,\n",
              " 'woman': 56,\n",
              " 'time': 57,\n",
              " 'like': 58,\n",
              " 'get': 59,\n",
              " 'old': 60,\n",
              " 'no': 61,\n",
              " 'her': 62,\n",
              " \"trump's\": 63,\n",
              " 'off': 64,\n",
              " 'now': 65,\n",
              " 'an': 66,\n",
              " 'obama': 67,\n",
              " 'life': 68,\n",
              " 'people': 69,\n",
              " 'women': 70,\n",
              " 'house': 71,\n",
              " \"'\": 72,\n",
              " 'was': 73,\n",
              " 'still': 74,\n",
              " 'white': 75,\n",
              " 'back': 76,\n",
              " 'make': 77,\n",
              " 'than': 78,\n",
              " 'clinton': 79,\n",
              " 'down': 80,\n",
              " 'when': 81,\n",
              " 'my': 82,\n",
              " '5': 83,\n",
              " 'could': 84,\n",
              " 'world': 85,\n",
              " 'americans': 86,\n",
              " 'if': 87,\n",
              " 'i': 88,\n",
              " 'we': 89,\n",
              " 'way': 90,\n",
              " 'their': 91,\n",
              " 'most': 92,\n",
              " 'study': 93,\n",
              " 'they': 94,\n",
              " 'before': 95,\n",
              " 'family': 96,\n",
              " 'do': 97,\n",
              " 'gop': 98,\n",
              " 'best': 99,\n",
              " 'black': 100,\n",
              " \"it's\": 101,\n",
              " 'bill': 102,\n",
              " 'school': 103,\n",
              " 'but': 104,\n",
              " 'only': 105,\n",
              " 'police': 106,\n",
              " 'him': 107,\n",
              " 'so': 108,\n",
              " 'years': 109,\n",
              " 'president': 110,\n",
              " 'know': 111,\n",
              " '3': 112,\n",
              " 'being': 113,\n",
              " 'watch': 114,\n",
              " 'should': 115,\n",
              " 'would': 116,\n",
              " 'last': 117,\n",
              " 'really': 118,\n",
              " '10': 119,\n",
              " 'video': 120,\n",
              " 'show': 121,\n",
              " \"can't\": 122,\n",
              " 'going': 123,\n",
              " 'death': 124,\n",
              " 'hillary': 125,\n",
              " 'during': 126,\n",
              " 'finds': 127,\n",
              " 'american': 128,\n",
              " 'things': 129,\n",
              " 'good': 130,\n",
              " 'state': 131,\n",
              " 'against': 132,\n",
              " 'she': 133,\n",
              " 'home': 134,\n",
              " 'or': 135,\n",
              " 'may': 136,\n",
              " 'love': 137,\n",
              " 'health': 138,\n",
              " 'say': 139,\n",
              " 'need': 140,\n",
              " 'nation': 141,\n",
              " 'too': 142,\n",
              " '000': 143,\n",
              " 'every': 144,\n",
              " 'right': 145,\n",
              " 'take': 146,\n",
              " 'gets': 147,\n",
              " 'campaign': 148,\n",
              " \"'the\": 149,\n",
              " 'work': 150,\n",
              " 'little': 151,\n",
              " '2': 152,\n",
              " 'mom': 153,\n",
              " 'court': 154,\n",
              " 'some': 155,\n",
              " 'getting': 156,\n",
              " 'party': 157,\n",
              " 'high': 158,\n",
              " 'john': 159,\n",
              " \"here's\": 160,\n",
              " 'our': 161,\n",
              " '7': 162,\n",
              " 'kids': 163,\n",
              " 'calls': 164,\n",
              " 'where': 165,\n",
              " 'takes': 166,\n",
              " 'makes': 167,\n",
              " 'child': 168,\n",
              " 'parents': 169,\n",
              " 'dead': 170,\n",
              " 'big': 171,\n",
              " 'these': 172,\n",
              " 'local': 173,\n",
              " 'while': 174,\n",
              " 'own': 175,\n",
              " 'never': 176,\n",
              " 'election': 177,\n",
              " 'real': 178,\n",
              " 'go': 179,\n",
              " \"doesn't\": 180,\n",
              " 'other': 181,\n",
              " \"he's\": 182,\n",
              " 'news': 183,\n",
              " 'america': 184,\n",
              " 'see': 185,\n",
              " 'self': 186,\n",
              " 'through': 187,\n",
              " '4': 188,\n",
              " 'plan': 189,\n",
              " 'stop': 190,\n",
              " 'want': 191,\n",
              " 'college': 192,\n",
              " 'guy': 193,\n",
              " 'its': 194,\n",
              " 'change': 195,\n",
              " '6': 196,\n",
              " 'look': 197,\n",
              " 'sex': 198,\n",
              " 'gay': 199,\n",
              " 'office': 200,\n",
              " 'again': 201,\n",
              " \"don't\": 202,\n",
              " 'two': 203,\n",
              " 'bush': 204,\n",
              " 'next': 205,\n",
              " \"nation's\": 206,\n",
              " 'around': 207,\n",
              " 'war': 208,\n",
              " 'even': 209,\n",
              " '1': 210,\n",
              " 'got': 211,\n",
              " 'another': 212,\n",
              " 'wants': 213,\n",
              " 'baby': 214,\n",
              " 'million': 215,\n",
              " 'long': 216,\n",
              " \"man's\": 217,\n",
              " 'dog': 218,\n",
              " 'them': 219,\n",
              " 'week': 220,\n",
              " 'thing': 221,\n",
              " 'dad': 222,\n",
              " 'congress': 223,\n",
              " 'made': 224,\n",
              " 'gun': 225,\n",
              " 'north': 226,\n",
              " 'much': 227,\n",
              " 'care': 228,\n",
              " 'under': 229,\n",
              " 'job': 230,\n",
              " 'ever': 231,\n",
              " 'national': 232,\n",
              " 'finally': 233,\n",
              " 'debate': 234,\n",
              " 'actually': 235,\n",
              " 'help': 236,\n",
              " 'ways': 237,\n",
              " '20': 238,\n",
              " 'us': 239,\n",
              " 'been': 240,\n",
              " 'students': 241,\n",
              " '9': 242,\n",
              " 'shows': 243,\n",
              " 'sexual': 244,\n",
              " 'give': 245,\n",
              " \"won't\": 246,\n",
              " 'season': 247,\n",
              " 'live': 248,\n",
              " 'game': 249,\n",
              " 'making': 250,\n",
              " 'better': 251,\n",
              " 'climate': 252,\n",
              " 'senate': 253,\n",
              " 'shooting': 254,\n",
              " 'without': 255,\n",
              " 'anti': 256,\n",
              " 'history': 257,\n",
              " 'media': 258,\n",
              " 'night': 259,\n",
              " 'had': 260,\n",
              " 'star': 261,\n",
              " 'god': 262,\n",
              " 'couple': 263,\n",
              " 'money': 264,\n",
              " 'entire': 265,\n",
              " 'everyone': 266,\n",
              " 'there': 267,\n",
              " 'city': 268,\n",
              " 'free': 269,\n",
              " 'trying': 270,\n",
              " 'any': 271,\n",
              " 'end': 272,\n",
              " 'me': 273,\n",
              " 'children': 274,\n",
              " 'announces': 275,\n",
              " 'tv': 276,\n",
              " 'law': 277,\n",
              " 'top': 278,\n",
              " 'found': 279,\n",
              " 'away': 280,\n",
              " 'paul': 281,\n",
              " 'supreme': 282,\n",
              " 'face': 283,\n",
              " '8': 284,\n",
              " 'men': 285,\n",
              " 'government': 286,\n",
              " 'teen': 287,\n",
              " 'come': 288,\n",
              " 'story': 289,\n",
              " 'tell': 290,\n",
              " 'business': 291,\n",
              " 'food': 292,\n",
              " 'part': 293,\n",
              " 'film': 294,\n",
              " 'bad': 295,\n",
              " 'reveals': 296,\n",
              " 'think': 297,\n",
              " 'deal': 298,\n",
              " 'introduces': 299,\n",
              " 'morning': 300,\n",
              " 'attack': 301,\n",
              " 'find': 302,\n",
              " 'james': 303,\n",
              " 'son': 304,\n",
              " 'car': 305,\n",
              " '11': 306,\n",
              " 'enough': 307,\n",
              " 'fire': 308,\n",
              " 'facebook': 309,\n",
              " 'does': 310,\n",
              " 'power': 311,\n",
              " 'pope': 312,\n",
              " 'movie': 313,\n",
              " 'friend': 314,\n",
              " 'fight': 315,\n",
              " 'york': 316,\n",
              " 'wedding': 317,\n",
              " 'used': 318,\n",
              " 'body': 319,\n",
              " 'book': 320,\n",
              " 'call': 321,\n",
              " 'middle': 322,\n",
              " \"didn't\": 323,\n",
              " 'girl': 324,\n",
              " 'run': 325,\n",
              " 'same': 326,\n",
              " 'use': 327,\n",
              " 'former': 328,\n",
              " 'tax': 329,\n",
              " 'single': 330,\n",
              " 'thinks': 331,\n",
              " 'friends': 332,\n",
              " 'public': 333,\n",
              " 'second': 334,\n",
              " 'email': 335,\n",
              " 'support': 336,\n",
              " 'line': 337,\n",
              " 'photos': 338,\n",
              " 'republican': 339,\n",
              " 'great': 340,\n",
              " 'asks': 341,\n",
              " 'rights': 342,\n",
              " 'company': 343,\n",
              " 'behind': 344,\n",
              " 'sanders': 345,\n",
              " 'marriage': 346,\n",
              " 'speech': 347,\n",
              " 'looking': 348,\n",
              " 'must': 349,\n",
              " 'claims': 350,\n",
              " 'room': 351,\n",
              " 'security': 352,\n",
              " 'already': 353,\n",
              " 'because': 354,\n",
              " 'each': 355,\n",
              " '2016': 356,\n",
              " 'keep': 357,\n",
              " 'judge': 358,\n",
              " 'team': 359,\n",
              " 'republicans': 360,\n",
              " 'christmas': 361,\n",
              " 'goes': 362,\n",
              " 'vote': 363,\n",
              " 'democrats': 364,\n",
              " 'talk': 365,\n",
              " \"world's\": 366,\n",
              " 'presidential': 367,\n",
              " 'violence': 368,\n",
              " 'case': 369,\n",
              " 'inside': 370,\n",
              " 'voters': 371,\n",
              " 'control': 372,\n",
              " 'open': 373,\n",
              " 'ban': 374,\n",
              " 'future': 375,\n",
              " 'name': 376,\n",
              " 'human': 377,\n",
              " 'department': 378,\n",
              " 'between': 379,\n",
              " 'might': 380,\n",
              " 'ad': 381,\n",
              " 'wife': 382,\n",
              " 'coming': 383,\n",
              " 'perfect': 384,\n",
              " 'win': 385,\n",
              " 'having': 386,\n",
              " 'twitter': 387,\n",
              " 'killed': 388,\n",
              " 'secret': 389,\n",
              " 'political': 390,\n",
              " 'fans': 391,\n",
              " 'full': 392,\n",
              " 'sure': 393,\n",
              " 'group': 394,\n",
              " 'very': 395,\n",
              " 'pretty': 396,\n",
              " 'student': 397,\n",
              " 'texas': 398,\n",
              " 'three': 399,\n",
              " 'record': 400,\n",
              " 'once': 401,\n",
              " 'music': 402,\n",
              " '12': 403,\n",
              " 'bernie': 404,\n",
              " '15': 405,\n",
              " 'missing': 406,\n",
              " 'releases': 407,\n",
              " 'poll': 408,\n",
              " 'doing': 409,\n",
              " 'teacher': 410,\n",
              " 'ready': 411,\n",
              " 'living': 412,\n",
              " 'super': 413,\n",
              " 'boy': 414,\n",
              " 'always': 415,\n",
              " 'scientists': 416,\n",
              " 'art': 417,\n",
              " 'here': 418,\n",
              " 'reports': 419,\n",
              " 'unveils': 420,\n",
              " 'save': 421,\n",
              " 'kim': 422,\n",
              " 'until': 423,\n",
              " 'meet': 424,\n",
              " 'photo': 425,\n",
              " 'race': 426,\n",
              " 'something': 427,\n",
              " 'working': 428,\n",
              " 'comes': 429,\n",
              " 'were': 430,\n",
              " 'post': 431,\n",
              " 'obamacare': 432,\n",
              " 'start': 433,\n",
              " 'word': 434,\n",
              " 'running': 435,\n",
              " 'summer': 436,\n",
              " 'ryan': 437,\n",
              " 'lives': 438,\n",
              " 'fucking': 439,\n",
              " 'shot': 440,\n",
              " 'month': 441,\n",
              " 'mike': 442,\n",
              " 'thousands': 443,\n",
              " 'gives': 444,\n",
              " 'days': 445,\n",
              " 'wall': 446,\n",
              " 'leaves': 447,\n",
              " 'drug': 448,\n",
              " 'water': 449,\n",
              " 'california': 450,\n",
              " 'class': 451,\n",
              " 'female': 452,\n",
              " 'age': 453,\n",
              " 'looks': 454,\n",
              " 'social': 455,\n",
              " 'many': 456,\n",
              " 'let': 457,\n",
              " 'country': 458,\n",
              " 'person': 459,\n",
              " 'breaking': 460,\n",
              " 'everything': 461,\n",
              " 'head': 462,\n",
              " 'father': 463,\n",
              " 'plans': 464,\n",
              " 'minutes': 465,\n",
              " 'russia': 466,\n",
              " 'states': 467,\n",
              " 'town': 468,\n",
              " 'candidate': 469,\n",
              " 'forced': 470,\n",
              " 'put': 471,\n",
              " 'cancer': 472,\n",
              " 'yet': 473,\n",
              " 'education': 474,\n",
              " 'left': 475,\n",
              " 'probably': 476,\n",
              " 'korea': 477,\n",
              " 'cruz': 478,\n",
              " \"'i\": 479,\n",
              " 'air': 480,\n",
              " 'tells': 481,\n",
              " 'place': 482,\n",
              " 'past': 483,\n",
              " 'admits': 484,\n",
              " 'employee': 485,\n",
              " 'taking': 486,\n",
              " 'hot': 487,\n",
              " 'believe': 488,\n",
              " 'biden': 489,\n",
              " 'did': 490,\n",
              " 'hard': 491,\n",
              " 'red': 492,\n",
              " 'dream': 493,\n",
              " \"you're\": 494,\n",
              " 'mother': 495,\n",
              " 'half': 496,\n",
              " 'street': 497,\n",
              " 'eating': 498,\n",
              " 'pay': 499,\n",
              " \"i'm\": 500,\n",
              " 'justice': 501,\n",
              " 'secretary': 502,\n",
              " 'beautiful': 503,\n",
              " 'guide': 504,\n",
              " 'romney': 505,\n",
              " 'administration': 506,\n",
              " 'south': 507,\n",
              " 'heart': 508,\n",
              " 'list': 509,\n",
              " 'military': 510,\n",
              " '50': 511,\n",
              " 'isis': 512,\n",
              " 'internet': 513,\n",
              " 'tips': 514,\n",
              " 'personal': 515,\n",
              " 'small': 516,\n",
              " 'young': 517,\n",
              " 'talks': 518,\n",
              " '30': 519,\n",
              " 'needs': 520,\n",
              " 'together': 521,\n",
              " 'fbi': 522,\n",
              " 'rock': 523,\n",
              " 'nuclear': 524,\n",
              " 'lost': 525,\n",
              " 'times': 526,\n",
              " 'wins': 527,\n",
              " 'questions': 528,\n",
              " 'michael': 529,\n",
              " 'fan': 530,\n",
              " 'lot': 531,\n",
              " 'those': 532,\n",
              " 'letter': 533,\n",
              " 'hollywood': 534,\n",
              " 'set': 535,\n",
              " 'crisis': 536,\n",
              " 'officials': 537,\n",
              " 'king': 538,\n",
              " 'owner': 539,\n",
              " 'latest': 540,\n",
              " 'idea': 541,\n",
              " 'ex': 542,\n",
              " 'thought': 543,\n",
              " 'dies': 544,\n",
              " 'march': 545,\n",
              " 'kill': 546,\n",
              " 'excited': 547,\n",
              " 'restaurant': 548,\n",
              " 'iran': 549,\n",
              " 'director': 550,\n",
              " 'warns': 551,\n",
              " 'chris': 552,\n",
              " 'birthday': 553,\n",
              " 'congressman': 554,\n",
              " \"what's\": 555,\n",
              " 'issues': 556,\n",
              " 'ask': 557,\n",
              " 'service': 558,\n",
              " 'system': 559,\n",
              " 'birth': 560,\n",
              " 'federal': 561,\n",
              " 'sleep': 562,\n",
              " 'ceo': 563,\n",
              " 'holiday': 564,\n",
              " 'following': 565,\n",
              " 'daughter': 566,\n",
              " 'celebrates': 567,\n",
              " 'move': 568,\n",
              " 'assault': 569,\n",
              " 'wrong': 570,\n",
              " 'china': 571,\n",
              " 'rise': 572,\n",
              " 'ice': 573,\n",
              " 'someone': 574,\n",
              " 'majority': 575,\n",
              " 'cat': 576,\n",
              " 'muslim': 577,\n",
              " 'giving': 578,\n",
              " 'phone': 579,\n",
              " 'fun': 580,\n",
              " \"women's\": 581,\n",
              " 'problem': 582,\n",
              " 'abortion': 583,\n",
              " 'special': 584,\n",
              " 'mark': 585,\n",
              " 'wearing': 586,\n",
              " 'buy': 587,\n",
              " 'trip': 588,\n",
              " 'third': 589,\n",
              " 'knows': 590,\n",
              " \"isn't\": 591,\n",
              " 'tweets': 592,\n",
              " 'less': 593,\n",
              " 'nothing': 594,\n",
              " 'series': 595,\n",
              " 'earth': 596,\n",
              " 'chief': 597,\n",
              " 'percent': 598,\n",
              " 'favorite': 599,\n",
              " 'washington': 600,\n",
              " 'few': 601,\n",
              " 'cover': 602,\n",
              " 'talking': 603,\n",
              " 'meeting': 604,\n",
              " 'girls': 605,\n",
              " 'online': 606,\n",
              " 'syrian': 607,\n",
              " 'ted': 608,\n",
              " 'bar': 609,\n",
              " 'box': 610,\n",
              " 'hour': 611,\n",
              " 'play': 612,\n",
              " 'hours': 613,\n",
              " 'fashion': 614,\n",
              " 'late': 615,\n",
              " 'outside': 616,\n",
              " 'al': 617,\n",
              " 'community': 618,\n",
              " 'minute': 619,\n",
              " 'using': 620,\n",
              " 'message': 621,\n",
              " 'florida': 622,\n",
              " 'career': 623,\n",
              " 'become': 624,\n",
              " 'kid': 625,\n",
              " 'moment': 626,\n",
              " 'today': 627,\n",
              " 'huffpost': 628,\n",
              " 'watching': 629,\n",
              " 'stephen': 630,\n",
              " 'break': 631,\n",
              " 't': 632,\n",
              " 'un': 633,\n",
              " '2015': 634,\n",
              " 'democratic': 635,\n",
              " 'fox': 636,\n",
              " 'shit': 637,\n",
              " 'offers': 638,\n",
              " 'thinking': 639,\n",
              " 'george': 640,\n",
              " 'adorable': 641,\n",
              " 'response': 642,\n",
              " 'read': 643,\n",
              " 'weekend': 644,\n",
              " 'months': 645,\n",
              " 'visit': 646,\n",
              " 'hair': 647,\n",
              " 'victims': 648,\n",
              " \"america's\": 649,\n",
              " 'told': 650,\n",
              " 'hope': 651,\n",
              " 'least': 652,\n",
              " 'different': 653,\n",
              " 'point': 654,\n",
              " 'travel': 655,\n",
              " 'front': 656,\n",
              " 'billion': 657,\n",
              " 'since': 658,\n",
              " 'rules': 659,\n",
              " 'russian': 660,\n",
              " 'feel': 661,\n",
              " 'happy': 662,\n",
              " 'protest': 663,\n",
              " 'straight': 664,\n",
              " 'gift': 665,\n",
              " 'union': 666,\n",
              " 'bus': 667,\n",
              " 'crash': 668,\n",
              " \"she's\": 669,\n",
              " 'anything': 670,\n",
              " 'dating': 671,\n",
              " 'k': 672,\n",
              " 'scott': 673,\n",
              " 'david': 674,\n",
              " 'accused': 675,\n",
              " \"obama's\": 676,\n",
              " 'taylor': 677,\n",
              " 'trailer': 678,\n",
              " 'kind': 679,\n",
              " 'names': 680,\n",
              " 'well': 681,\n",
              " 'key': 682,\n",
              " 'order': 683,\n",
              " 'true': 684,\n",
              " 'reasons': 685,\n",
              " 'cop': 686,\n",
              " 'pence': 687,\n",
              " 'reason': 688,\n",
              " 'joe': 689,\n",
              " 'dinner': 690,\n",
              " 'oil': 691,\n",
              " 'syria': 692,\n",
              " 'powerful': 693,\n",
              " 'sick': 694,\n",
              " '100': 695,\n",
              " 'brings': 696,\n",
              " 'global': 697,\n",
              " 'date': 698,\n",
              " 'lead': 699,\n",
              " 'policy': 700,\n",
              " 'spends': 701,\n",
              " 'learned': 702,\n",
              " 'millions': 703,\n",
              " 'lessons': 704,\n",
              " 'francis': 705,\n",
              " 'c': 706,\n",
              " 'struggling': 707,\n",
              " 'low': 708,\n",
              " 'discover': 709,\n",
              " 'song': 710,\n",
              " 'opens': 711,\n",
              " 'far': 712,\n",
              " 'himself': 713,\n",
              " 'girlfriend': 714,\n",
              " 'j': 715,\n",
              " 'vows': 716,\n",
              " 'worried': 717,\n",
              " 'leave': 718,\n",
              " 'surprise': 719,\n",
              " 'kills': 720,\n",
              " 'united': 721,\n",
              " 'hate': 722,\n",
              " 'leader': 723,\n",
              " 'nfl': 724,\n",
              " 'oscar': 725,\n",
              " 'style': 726,\n",
              " 'whole': 727,\n",
              " 'anniversary': 728,\n",
              " 'turns': 729,\n",
              " 'conversation': 730,\n",
              " 'hit': 731,\n",
              " 'waiting': 732,\n",
              " 'general': 733,\n",
              " 'fighting': 734,\n",
              " 'schools': 735,\n",
              " 'host': 736,\n",
              " '2017': 737,\n",
              " 'killing': 738,\n",
              " 'apple': 739,\n",
              " '40': 740,\n",
              " 'prison': 741,\n",
              " '2014': 742,\n",
              " 'adds': 743,\n",
              " 'drunk': 744,\n",
              " \"they're\": 745,\n",
              " 'd': 746,\n",
              " 'near': 747,\n",
              " 'rubio': 748,\n",
              " 'reality': 749,\n",
              " 'weird': 750,\n",
              " 'senator': 751,\n",
              " 'feels': 752,\n",
              " 'possible': 753,\n",
              " 'moving': 754,\n",
              " 'stars': 755,\n",
              " 'signs': 756,\n",
              " 'politics': 757,\n",
              " 'sign': 758,\n",
              " 'jr': 759,\n",
              " 'immigration': 760,\n",
              " 'leaders': 761,\n",
              " 'stand': 762,\n",
              " 'called': 763,\n",
              " 'tour': 764,\n",
              " 'returns': 765,\n",
              " 'totally': 766,\n",
              " 'reportedly': 767,\n",
              " 'massive': 768,\n",
              " 'sports': 769,\n",
              " 'major': 770,\n",
              " 'force': 771,\n",
              " 'advice': 772,\n",
              " 'weight': 773,\n",
              " 'breaks': 774,\n",
              " 'number': 775,\n",
              " 'bring': 776,\n",
              " 'transgender': 777,\n",
              " 'west': 778,\n",
              " 'mass': 779,\n",
              " 'spring': 780,\n",
              " 'door': 781,\n",
              " 'fall': 782,\n",
              " 'investigation': 783,\n",
              " 'tom': 784,\n",
              " 'employees': 785,\n",
              " 'test': 786,\n",
              " 'relationship': 787,\n",
              " 'important': 788,\n",
              " 'puts': 789,\n",
              " 'iowa': 790,\n",
              " 'stage': 791,\n",
              " 'murder': 792,\n",
              " 'candidates': 793,\n",
              " 'close': 794,\n",
              " 'magazine': 795,\n",
              " 'early': 796,\n",
              " 'trans': 797,\n",
              " 'side': 798,\n",
              " 'store': 799,\n",
              " 'huge': 800,\n",
              " 'artist': 801,\n",
              " 'christian': 802,\n",
              " 'die': 803,\n",
              " 'abuse': 804,\n",
              " 'longer': 805,\n",
              " 'members': 806,\n",
              " 'worst': 807,\n",
              " 'peace': 808,\n",
              " 'loses': 809,\n",
              " 'act': 810,\n",
              " 'kardashian': 811,\n",
              " 'return': 812,\n",
              " 'audience': 813,\n",
              " 'five': 814,\n",
              " 'steve': 815,\n",
              " 'sean': 816,\n",
              " 'suspect': 817,\n",
              " 'prince': 818,\n",
              " 'ben': 819,\n",
              " 'attacks': 820,\n",
              " 'suicide': 821,\n",
              " 'program': 822,\n",
              " 'decision': 823,\n",
              " 'hits': 824,\n",
              " 'awards': 825,\n",
              " 'queer': 826,\n",
              " 'whether': 827,\n",
              " 'cops': 828,\n",
              " 'workers': 829,\n",
              " 'responds': 830,\n",
              " 'push': 831,\n",
              " 'fuck': 832,\n",
              " 'iraq': 833,\n",
              " 'google': 834,\n",
              " 'leaving': 835,\n",
              " 'carolina': 836,\n",
              " 'final': 837,\n",
              " 'voice': 838,\n",
              " 'chinese': 839,\n",
              " '13': 840,\n",
              " 'lgbt': 841,\n",
              " 'executive': 842,\n",
              " 'seen': 843,\n",
              " 'jimmy': 844,\n",
              " 'given': 845,\n",
              " 'keeps': 846,\n",
              " 'shares': 847,\n",
              " 'industry': 848,\n",
              " 'biggest': 849,\n",
              " 'protesters': 850,\n",
              " 'results': 851,\n",
              " 'press': 852,\n",
              " 'center': 853,\n",
              " 'lose': 854,\n",
              " 'almost': 855,\n",
              " 'light': 856,\n",
              " 'risk': 857,\n",
              " 'asking': 858,\n",
              " 'emotional': 859,\n",
              " 'paris': 860,\n",
              " 'michelle': 861,\n",
              " 'male': 862,\n",
              " 'hands': 863,\n",
              " 'road': 864,\n",
              " 'bathroom': 865,\n",
              " 'allegations': 866,\n",
              " 'bowl': 867,\n",
              " 'begins': 868,\n",
              " 'planned': 869,\n",
              " 'homeless': 870,\n",
              " 'poor': 871,\n",
              " 'planet': 872,\n",
              " 'hoping': 873,\n",
              " 'governor': 874,\n",
              " 'non': 875,\n",
              " 'east': 876,\n",
              " 'fails': 877,\n",
              " 'cool': 878,\n",
              " 'wait': 879,\n",
              " 'moms': 880,\n",
              " 'humans': 881,\n",
              " 'mind': 882,\n",
              " 'defense': 883,\n",
              " 'pizza': 884,\n",
              " 'ferguson': 885,\n",
              " 'feeling': 886,\n",
              " 'amazon': 887,\n",
              " 'hall': 888,\n",
              " 'worse': 889,\n",
              " 'starting': 890,\n",
              " 'fear': 891,\n",
              " 'nasa': 892,\n",
              " 'problems': 893,\n",
              " 'check': 894,\n",
              " 'ebola': 895,\n",
              " 'role': 896,\n",
              " 'building': 897,\n",
              " 'arrested': 898,\n",
              " 'driving': 899,\n",
              " 'four': 900,\n",
              " 'scandal': 901,\n",
              " 'space': 902,\n",
              " 'moore': 903,\n",
              " 'science': 904,\n",
              " 'dance': 905,\n",
              " 'easy': 906,\n",
              " 'hand': 907,\n",
              " 'israel': 908,\n",
              " 'picture': 909,\n",
              " 'eyes': 910,\n",
              " 'voter': 911,\n",
              " \"there's\": 912,\n",
              " 'mental': 913,\n",
              " 'action': 914,\n",
              " 'cut': 915,\n",
              " 'spend': 916,\n",
              " 'spot': 917,\n",
              " 'board': 918,\n",
              " 'chance': 919,\n",
              " 'words': 920,\n",
              " 'suggests': 921,\n",
              " 'urges': 922,\n",
              " 'williams': 923,\n",
              " 'coffee': 924,\n",
              " 'green': 925,\n",
              " 'apologizes': 926,\n",
              " 'celebrate': 927,\n",
              " 'documentary': 928,\n",
              " 'supporters': 929,\n",
              " 'remember': 930,\n",
              " 'depression': 931,\n",
              " 'halloween': 932,\n",
              " 'deadly': 933,\n",
              " 'louis': 934,\n",
              " 'pro': 935,\n",
              " 'oscars': 936,\n",
              " 'interview': 937,\n",
              " 'park': 938,\n",
              " 'completely': 939,\n",
              " 'harassment': 940,\n",
              " 'card': 941,\n",
              " 'university': 942,\n",
              " 'success': 943,\n",
              " 'coworker': 944,\n",
              " 'pick': 945,\n",
              " 'doctor': 946,\n",
              " 'harvey': 947,\n",
              " 'happens': 948,\n",
              " 'throws': 949,\n",
              " 'band': 950,\n",
              " 'pregnant': 951,\n",
              " 'hear': 952,\n",
              " 'crowd': 953,\n",
              " 'deep': 954,\n",
              " 'amazing': 955,\n",
              " 'official': 956,\n",
              " 'chicken': 957,\n",
              " 'ideas': 958,\n",
              " 'refugees': 959,\n",
              " 'forward': 960,\n",
              " 'opening': 961,\n",
              " 'reveal': 962,\n",
              " 'mean': 963,\n",
              " 'simple': 964,\n",
              " 'economy': 965,\n",
              " 'reminds': 966,\n",
              " 'which': 967,\n",
              " 'turn': 968,\n",
              " 'healthy': 969,\n",
              " 'senators': 970,\n",
              " 'swift': 971,\n",
              " 'eat': 972,\n",
              " 'hurricane': 973,\n",
              " '17': 974,\n",
              " 'rest': 975,\n",
              " 'album': 976,\n",
              " 'despite': 977,\n",
              " \"woman's\": 978,\n",
              " 'chicago': 979,\n",
              " 'movies': 980,\n",
              " 'happened': 981,\n",
              " 'officer': 982,\n",
              " 'across': 983,\n",
              " 'desperate': 984,\n",
              " 'uses': 985,\n",
              " 'apartment': 986,\n",
              " 'plane': 987,\n",
              " 'realizes': 988,\n",
              " 'funding': 989,\n",
              " 'holding': 990,\n",
              " 'leading': 991,\n",
              " 'crime': 992,\n",
              " 'demand': 993,\n",
              " \"we're\": 994,\n",
              " 'explains': 995,\n",
              " 'seeing': 996,\n",
              " 'slams': 997,\n",
              " 'residents': 998,\n",
              " 'sales': 999,\n",
              " \"let's\": 1000,\n",
              " ...}"
            ]
          },
          "metadata": {
            "tags": []
          },
          "execution_count": 20
        }
      ]
    },
    {
      "cell_type": "code",
      "metadata": {
        "id": "GleJUaox-dHk",
        "colab": {
          "base_uri": "https://localhost:8080/"
        },
        "outputId": "0e7c5b66-6ce1-458e-d191-71ef6374b670"
      },
      "source": [
        "word_index['trump']"
      ],
      "execution_count": null,
      "outputs": [
        {
          "output_type": "execute_result",
          "data": {
            "text/plain": [
              "13"
            ]
          },
          "metadata": {
            "tags": []
          },
          "execution_count": 21
        }
      ]
    },
    {
      "cell_type": "code",
      "metadata": {
        "id": "W23IUjuNRo_s",
        "colab": {
          "base_uri": "https://localhost:8080/"
        },
        "outputId": "d1ec1d8c-15db-4615-8521-7a690a6fe713"
      },
      "source": [
        "word_index['hello']"
      ],
      "execution_count": null,
      "outputs": [
        {
          "output_type": "execute_result",
          "data": {
            "text/plain": [
              "11724"
            ]
          },
          "metadata": {
            "tags": []
          },
          "execution_count": 22
        }
      ]
    },
    {
      "cell_type": "code",
      "metadata": {
        "id": "nMwedFRm-Y9L",
        "colab": {
          "base_uri": "https://localhost:8080/"
        },
        "outputId": "d61f6a66-eee7-4b43-fc2f-e1f4fa31c774"
      },
      "source": [
        "word_index['<OOV>']"
      ],
      "execution_count": null,
      "outputs": [
        {
          "output_type": "execute_result",
          "data": {
            "text/plain": [
              "1"
            ]
          },
          "metadata": {
            "tags": []
          },
          "execution_count": 23
        }
      ]
    },
    {
      "cell_type": "markdown",
      "metadata": {
        "id": "ozaMIfx_Ro_4"
      },
      "source": [
        "## 전처리 Step 3. 문장(sentences)을 토큰으로 변경 (치환)"
      ]
    },
    {
      "cell_type": "markdown",
      "metadata": {
        "id": "cNqh5HgMAcKW"
      },
      "source": [
        "`texts_to_sequences`: 문장을 숫자로 **치환** 합니다. Train Set, Valid Set 모두 별도로 적용해주어야 합니다."
      ]
    },
    {
      "cell_type": "code",
      "metadata": {
        "id": "bYNXTtTIRo_5"
      },
      "source": [
        "# 문장을 숫자로 치환!\n",
        "train_sequences = tokenizer.texts_to_sequences(train_sentences)\n",
        "validation_sequences = tokenizer.texts_to_sequences(validation_sentences)"
      ],
      "execution_count": null,
      "outputs": []
    },
    {
      "cell_type": "markdown",
      "metadata": {
        "id": "weKqGE4DAolj"
      },
      "source": [
        "**변환된 Sequences 확인**"
      ]
    },
    {
      "cell_type": "code",
      "metadata": {
        "id": "CKH_vITVRo_8",
        "colab": {
          "base_uri": "https://localhost:8080/"
        },
        "outputId": "981e72d7-d97c-48ad-8a0c-281f2a890137"
      },
      "source": [
        "train_sequences[:5]"
      ],
      "execution_count": null,
      "outputs": [
        {
          "output_type": "execute_result",
          "data": {
            "text/plain": [
              "[[328, 1, 799, 1, 1, 47, 389, 1, 1, 6, 1, 1],\n",
              " [4, 1, 1, 1, 23, 2, 161, 1, 390, 1, 6, 251, 9, 889],\n",
              " [153, 890, 2, 891, 1, 1, 595, 1, 221, 133, 36, 45, 2, 1],\n",
              " [1, 38, 213, 382, 2, 1, 29, 288, 23, 10, 1, 1, 1, 958],\n",
              " [715, 672, 1, 1, 1, 662, 553, 5, 4, 92, 1, 90]]"
            ]
          },
          "metadata": {
            "tags": []
          },
          "execution_count": 25
        }
      ]
    },
    {
      "cell_type": "markdown",
      "metadata": {
        "id": "LEgW25CNRpAB"
      },
      "source": [
        "변환 과정에서 '<OOV>'로 **변환된 단어** 확인"
      ]
    },
    {
      "cell_type": "markdown",
      "metadata": {
        "id": "PgP_i2wHBScf"
      },
      "source": [
        "빈도수로 지정한 `num_words`=1000 에 의거하여, 빈도수가 1000번째보다 떨어지는 단어는 자동으로 1로 치환됩니다.\n",
        "\n",
        "1은 '<OOV>' 입니다. (Out of Vocab)"
      ]
    },
    {
      "cell_type": "code",
      "metadata": {
        "id": "Mt22rhELRpAF",
        "colab": {
          "base_uri": "https://localhost:8080/",
          "height": 36
        },
        "outputId": "121c4253-a13a-415e-b86c-5c41eb35b1d4"
      },
      "source": [
        "train_sentences[4]"
      ],
      "execution_count": null,
      "outputs": [
        {
          "output_type": "execute_result",
          "data": {
            "application/vnd.google.colaboratory.intrinsic+json": {
              "type": "string"
            },
            "text/plain": [
              "'j.k. rowling wishes snape happy birthday in the most magical way'"
            ]
          },
          "metadata": {
            "tags": []
          },
          "execution_count": 26
        }
      ]
    },
    {
      "cell_type": "code",
      "metadata": {
        "id": "ZfwQcmvXRpAJ",
        "colab": {
          "base_uri": "https://localhost:8080/"
        },
        "outputId": "be6fd250-354b-4d12-e21a-e935a42c229a"
      },
      "source": [
        "word_index['j'], word_index['k'], word_index['rowling'], word_index['wishes'], word_index['snape'], word_index['happy']"
      ],
      "execution_count": null,
      "outputs": [
        {
          "output_type": "execute_result",
          "data": {
            "text/plain": [
              "(715, 672, 5652, 1043, 8865, 662)"
            ]
          },
          "metadata": {
            "tags": []
          },
          "execution_count": 27
        }
      ]
    },
    {
      "cell_type": "code",
      "metadata": {
        "id": "kGYuwVXBA00V",
        "colab": {
          "base_uri": "https://localhost:8080/"
        },
        "outputId": "36515aab-52cf-4d8c-dec1-a38e30938640"
      },
      "source": [
        "train_sequences[4] # 'rowling, wishes, snape 등은 빈도수가 1000번 보다 낮아서 OOV가 됨,"
      ],
      "execution_count": null,
      "outputs": [
        {
          "output_type": "execute_result",
          "data": {
            "text/plain": [
              "[715, 672, 1, 1, 1, 662, 553, 5, 4, 92, 1, 90]"
            ]
          },
          "metadata": {
            "tags": []
          },
          "execution_count": 28
        }
      ]
    },
    {
      "cell_type": "markdown",
      "metadata": {
        "id": "SRCwRYueRpAQ"
      },
      "source": [
        "## 전처리 Step 4. 시퀀스의 길이를 맞춰주기"
      ]
    },
    {
      "cell_type": "markdown",
      "metadata": {
        "id": "zAZyufTlRpAR"
      },
      "source": [
        "3가지 옵션을 입력해 줍니다.\n",
        "\n",
        "* `maxlen`: 최대 문장 길이를 정의합니다. 최대 문장길이보다 길면, 잘라냅니다.\n",
        "* `truncating`: 문장의 길이가 `maxlen`보다 길 때 앞을 자를지 뒤를 자를지 정의합니다.\n",
        "* `padding`: 문장의 길이가 `maxlen`보다 짧을 때 채워줄 값을 앞을 채울지, 뒤를 채울지 정의합니다."
      ]
    },
    {
      "cell_type": "code",
      "metadata": {
        "id": "CNH-OCTJ9hCN"
      },
      "source": [
        "# 한 문장의 최대 단어 숫자, 기준이 될 문장의 길이를 지정. 120으로 했으면 한 문장에 대해 120단어가 올 수 있다고 정의한거임\n",
        "max_length = 120\n",
        "\n",
        "# 잘라낼 문장의 위치\n",
        "# 120단어보다 더 길 때, 뒤를 잘라낼거면 post, 앞은 pre\n",
        "trunc_type='post'\n",
        "\n",
        "# 채워줄 문장의 위치\n",
        "# 문장이 짧을 때 앞을 채울 거면 pre, 뒤는 post\n",
        "padding_type='post'"
      ],
      "execution_count": null,
      "outputs": []
    },
    {
      "cell_type": "code",
      "metadata": {
        "id": "jdaO9ErnRpAS"
      },
      "source": [
        "# q방금 변환한 sequence에서 길이에 맞추어 모든 문장에 대해 padding 또는 truncating을 수행함\n",
        "train_padded = pad_sequences(train_sequences, maxlen=max_length, truncating=trunc_type, padding=padding_type)\n",
        "validation_padded = pad_sequences(validation_sequences, maxlen=max_length, padding=padding_type, truncating=trunc_type)"
      ],
      "execution_count": null,
      "outputs": []
    },
    {
      "cell_type": "markdown",
      "metadata": {
        "id": "w6eVduGjBzpZ"
      },
      "source": [
        "변환된 후 shape 확인"
      ]
    },
    {
      "cell_type": "code",
      "metadata": {
        "id": "tAudfwjTRpAV",
        "colab": {
          "base_uri": "https://localhost:8080/"
        },
        "outputId": "0f314e1b-272f-466d-be91-70f77f387a22"
      },
      "source": [
        "train_padded.shape"
      ],
      "execution_count": null,
      "outputs": [
        {
          "output_type": "execute_result",
          "data": {
            "text/plain": [
              "(20000, 120)"
            ]
          },
          "metadata": {
            "tags": []
          },
          "execution_count": 31
        }
      ]
    },
    {
      "cell_type": "markdown",
      "metadata": {
        "id": "_p77o7VlIDV4"
      },
      "source": [
        "## 전처리 Step 5. label 값을 numpy array로 변환"
      ]
    },
    {
      "cell_type": "markdown",
      "metadata": {
        "id": "Zk5Xv54HCEtx"
      },
      "source": [
        "model이 `list` type은 받아들이지 못하므로, numpy array로 변환합니다."
      ]
    },
    {
      "cell_type": "code",
      "metadata": {
        "id": "RSTya5jCIDV5"
      },
      "source": [
        "train_labels = np.array(train_labels)\n",
        "validation_labels = np.array(validation_labels)"
      ],
      "execution_count": null,
      "outputs": []
    },
    {
      "cell_type": "markdown",
      "metadata": {
        "id": "GqT-hof9CNT-"
      },
      "source": [
        "-------------------------------------------------------------\n"
      ]
    },
    {
      "cell_type": "markdown",
      "metadata": {
        "id": "ZV72Y76tRpA3"
      },
      "source": [
        "## Embedding Layer"
      ]
    },
    {
      "cell_type": "markdown",
      "metadata": {
        "id": "GFGHxB6gRpA4"
      },
      "source": [
        "**고차원을 저차원으로 축소**시켜주는 역할을 합니다."
      ]
    },
    {
      "cell_type": "markdown",
      "metadata": {
        "id": "g-9HwruaRpA5"
      },
      "source": [
        "one-hot encoding을 진행했을 때, 1000차원으로 표현되는 단어들을 16차원으로 줄여주는 겁니다. 그렇게 해서 `sparsity`문제를 해소하도록 유도합니다."
      ]
    },
    {
      "cell_type": "code",
      "metadata": {
        "id": "iLHuZfQfDBtL"
      },
      "source": [
        " # embedding을 하는 이유는 만약 1000차원으로 넣게 되면 각 단어가 독립적인 상태로 보이기 때문에 관계를 파악할 수 없음\n",
        " # 예를 들어, boy / girl은 유사한 단어인데 이에 대한 인식을 못하게 됨!\n",
        " # 또한 One-Hot encoding 시 ,각 문장이 대부분이 0으로 되어 있을 것이고 나머지는 1일 것이니까 연산이 매우 비효율적일 것임\n",
        " # 그래서 embedding layer를 쓰는 것임\n",
        " # 그래서 embedding을 통해 비슷한 단어는 유사한 위치에 있게 되고 반대되는 단어는 반대의 위치에 있게 됨!(성별, 시제, 국가-수도 등 관계를 알 수 있음)\n",
        " # 아래 변환할 차원은 시험에 주어짐\n",
        "embedding_dim = 16"
      ],
      "execution_count": null,
      "outputs": []
    },
    {
      "cell_type": "markdown",
      "metadata": {
        "id": "ks25QpDWCyos"
      },
      "source": [
        "**변환 전**"
      ]
    },
    {
      "cell_type": "code",
      "metadata": {
        "id": "HElkj8fSRpA5",
        "colab": {
          "base_uri": "https://localhost:8080/"
        },
        "outputId": "a57d85da-e88b-4b56-e118-cb018853e7e4"
      },
      "source": [
        "sample = np.array(train_padded[0])\n",
        "sample"
      ],
      "execution_count": null,
      "outputs": [
        {
          "output_type": "execute_result",
          "data": {
            "text/plain": [
              "array([328,   1, 799,   1,   1,  47, 389,   1,   1,   6,   1,   1,   0,\n",
              "         0,   0,   0,   0,   0,   0,   0,   0,   0,   0,   0,   0,   0,\n",
              "         0,   0,   0,   0,   0,   0,   0,   0,   0,   0,   0,   0,   0,\n",
              "         0,   0,   0,   0,   0,   0,   0,   0,   0,   0,   0,   0,   0,\n",
              "         0,   0,   0,   0,   0,   0,   0,   0,   0,   0,   0,   0,   0,\n",
              "         0,   0,   0,   0,   0,   0,   0,   0,   0,   0,   0,   0,   0,\n",
              "         0,   0,   0,   0,   0,   0,   0,   0,   0,   0,   0,   0,   0,\n",
              "         0,   0,   0,   0,   0,   0,   0,   0,   0,   0,   0,   0,   0,\n",
              "         0,   0,   0,   0,   0,   0,   0,   0,   0,   0,   0,   0,   0,\n",
              "         0,   0,   0], dtype=int32)"
            ]
          },
          "metadata": {
            "tags": []
          },
          "execution_count": 34
        }
      ]
    },
    {
      "cell_type": "markdown",
      "metadata": {
        "id": "LG2vE6amCv7b"
      },
      "source": [
        "**변환 후**"
      ]
    },
    {
      "cell_type": "code",
      "metadata": {
        "id": "HJ-d2D1tRpBM",
        "colab": {
          "base_uri": "https://localhost:8080/"
        },
        "outputId": "6f8fad60-db0d-44a4-9d4e-1b3c52381f8e"
      },
      "source": [
        "x = Embedding(vocab_size, embedding_dim, input_length=max_length)\n",
        "x(sample)[0]"
      ],
      "execution_count": null,
      "outputs": [
        {
          "output_type": "execute_result",
          "data": {
            "text/plain": [
              "<tf.Tensor: shape=(16,), dtype=float32, numpy=\n",
              "array([ 0.02789031,  0.01896976, -0.03223661, -0.02024066,  0.02604628,\n",
              "        0.00789473, -0.00013664,  0.02064439,  0.02467037,  0.04920587,\n",
              "        0.00449502,  0.01197068, -0.01727673, -0.03491609, -0.0279251 ,\n",
              "       -0.02350136], dtype=float32)>"
            ]
          },
          "metadata": {
            "tags": []
          },
          "execution_count": 35
        }
      ]
    },
    {
      "cell_type": "markdown",
      "metadata": {
        "id": "ehNYMSChRpBw"
      },
      "source": [
        "## 모델 정의 (Sequential)"
      ]
    },
    {
      "cell_type": "code",
      "metadata": {
        "id": "Jn8t4uehIDW-"
      },
      "source": [
        "model = Sequential([\n",
        "    Embedding(vocab_size, embedding_dim, input_length=max_length),\n",
        "    Bidirectional(LSTM(64, return_sequences=True)),\n",
        "    Bidirectional(LSTM(64)),\n",
        "    Dense(32, activation='relu'),\n",
        "    Dense(16, activation='relu'),\n",
        "    Dense(1, activation='sigmoid')\n",
        "])"
      ],
      "execution_count": null,
      "outputs": []
    },
    {
      "cell_type": "markdown",
      "metadata": {
        "id": "i6umKCF-D-U3"
      },
      "source": [
        "요약 확인"
      ]
    },
    {
      "cell_type": "code",
      "metadata": {
        "id": "JjmIBD7QD9FV",
        "colab": {
          "base_uri": "https://localhost:8080/"
        },
        "outputId": "2529d39b-0f80-4912-e0a1-5e1fbf33cbfe"
      },
      "source": [
        "model.summary()"
      ],
      "execution_count": null,
      "outputs": [
        {
          "output_type": "stream",
          "text": [
            "Model: \"sequential\"\n",
            "_________________________________________________________________\n",
            "Layer (type)                 Output Shape              Param #   \n",
            "=================================================================\n",
            "embedding_1 (Embedding)      (None, 120, 16)           16000     \n",
            "_________________________________________________________________\n",
            "bidirectional (Bidirectional (None, 120, 128)          41472     \n",
            "_________________________________________________________________\n",
            "bidirectional_1 (Bidirection (None, 128)               98816     \n",
            "_________________________________________________________________\n",
            "dense (Dense)                (None, 32)                4128      \n",
            "_________________________________________________________________\n",
            "dense_1 (Dense)              (None, 16)                528       \n",
            "_________________________________________________________________\n",
            "dense_2 (Dense)              (None, 1)                 17        \n",
            "=================================================================\n",
            "Total params: 160,961\n",
            "Trainable params: 160,961\n",
            "Non-trainable params: 0\n",
            "_________________________________________________________________\n"
          ],
          "name": "stdout"
        }
      ]
    },
    {
      "cell_type": "markdown",
      "metadata": {
        "id": "WCdAX_rXRpB0"
      },
      "source": [
        "## 컴파일 (compile)"
      ]
    },
    {
      "cell_type": "markdown",
      "metadata": {
        "id": "IpJgAudwRpB1"
      },
      "source": [
        "1. `optimizer`는 가장 최적화가 잘되는 알고리즘인 'adam'을 사용합니다.\n",
        "2. `loss`는 이진 분류이기 때문에 `binary_crossentropy`를 사용합니다."
      ]
    },
    {
      "cell_type": "code",
      "metadata": {
        "id": "B2iupQVBRpB1"
      },
      "source": [
        "model.compile(optimizer='adam', loss='binary_crossentropy', metrics=['acc'])"
      ],
      "execution_count": null,
      "outputs": []
    },
    {
      "cell_type": "markdown",
      "metadata": {
        "id": "yJ0gsuoqSv7z"
      },
      "source": [
        "## ModelCheckpoint: 체크포인트 생성"
      ]
    },
    {
      "cell_type": "markdown",
      "metadata": {
        "id": "oXHmDZ2aSx4O"
      },
      "source": [
        "`val_loss` 기준으로 epoch 마다 최적의 모델을 저장하기 위하여, ModelCheckpoint를 만듭니다.\n",
        "* `checkpoint_path`는 모델이 저장될 파일 명을 설정합니다.\n",
        "* `ModelCheckpoint`을 선언하고, 적절한 옵션 값을 지정합니다."
      ]
    },
    {
      "cell_type": "code",
      "metadata": {
        "id": "v_AvlY0cIDXX"
      },
      "source": [
        "checkpoint_path = 'my_checkpoint.ckpt'\n",
        "checkpoint = ModelCheckpoint(checkpoint_path, \n",
        "                             save_weights_only=True, \n",
        "                             save_best_only=True, \n",
        "                             monitor='val_loss',\n",
        "                             verbose=1)"
      ],
      "execution_count": null,
      "outputs": []
    },
    {
      "cell_type": "markdown",
      "metadata": {
        "id": "oKy7ZkL6RpB4"
      },
      "source": [
        "## 학습 (fit)"
      ]
    },
    {
      "cell_type": "code",
      "metadata": {
        "id": "lBL_WTG3Er63"
      },
      "source": [
        "epochs=10"
      ],
      "execution_count": null,
      "outputs": []
    },
    {
      "cell_type": "code",
      "metadata": {
        "id": "byjJCmN_RpB4",
        "colab": {
          "base_uri": "https://localhost:8080/"
        },
        "outputId": "073587ef-1db2-4b3e-e908-6055cbdf7491"
      },
      "source": [
        "history = model.fit(train_padded, train_labels, \n",
        "                    validation_data=(validation_padded, validation_labels),\n",
        "                    callbacks=[checkpoint],\n",
        "                    epochs=epochs)"
      ],
      "execution_count": null,
      "outputs": [
        {
          "output_type": "stream",
          "text": [
            "Epoch 1/10\n",
            "624/625 [============================>.] - ETA: 0s - loss: 0.4420 - acc: 0.7813\n",
            "Epoch 00001: val_loss improved from inf to 0.39250, saving model to my_checkpoint.ckpt\n",
            "625/625 [==============================] - 17s 27ms/step - loss: 0.4419 - acc: 0.7814 - val_loss: 0.3925 - val_acc: 0.8231\n",
            "Epoch 2/10\n",
            "624/625 [============================>.] - ETA: 0s - loss: 0.3532 - acc: 0.8406\n",
            "Epoch 00002: val_loss improved from 0.39250 to 0.37367, saving model to my_checkpoint.ckpt\n",
            "625/625 [==============================] - 16s 25ms/step - loss: 0.3533 - acc: 0.8407 - val_loss: 0.3737 - val_acc: 0.8246\n",
            "Epoch 3/10\n",
            "624/625 [============================>.] - ETA: 0s - loss: 0.3254 - acc: 0.8559\n",
            "Epoch 00003: val_loss did not improve from 0.37367\n",
            "625/625 [==============================] - 16s 25ms/step - loss: 0.3256 - acc: 0.8558 - val_loss: 0.3827 - val_acc: 0.8234\n",
            "Epoch 4/10\n",
            "625/625 [==============================] - ETA: 0s - loss: 0.3078 - acc: 0.8658\n",
            "Epoch 00004: val_loss did not improve from 0.37367\n",
            "625/625 [==============================] - 16s 25ms/step - loss: 0.3078 - acc: 0.8658 - val_loss: 0.3810 - val_acc: 0.8255\n",
            "Epoch 5/10\n",
            "625/625 [==============================] - ETA: 0s - loss: 0.2966 - acc: 0.8697\n",
            "Epoch 00005: val_loss did not improve from 0.37367\n",
            "625/625 [==============================] - 16s 25ms/step - loss: 0.2966 - acc: 0.8697 - val_loss: 0.3807 - val_acc: 0.8235\n",
            "Epoch 6/10\n",
            "623/625 [============================>.] - ETA: 0s - loss: 0.2892 - acc: 0.8762\n",
            "Epoch 00006: val_loss did not improve from 0.37367\n",
            "625/625 [==============================] - 16s 25ms/step - loss: 0.2893 - acc: 0.8761 - val_loss: 0.3770 - val_acc: 0.8289\n",
            "Epoch 7/10\n",
            "624/625 [============================>.] - ETA: 0s - loss: 0.2804 - acc: 0.8801\n",
            "Epoch 00007: val_loss did not improve from 0.37367\n",
            "625/625 [==============================] - 16s 25ms/step - loss: 0.2803 - acc: 0.8802 - val_loss: 0.3927 - val_acc: 0.8228\n",
            "Epoch 8/10\n",
            "625/625 [==============================] - ETA: 0s - loss: 0.2721 - acc: 0.8837\n",
            "Epoch 00008: val_loss did not improve from 0.37367\n",
            "625/625 [==============================] - 16s 25ms/step - loss: 0.2721 - acc: 0.8837 - val_loss: 0.4085 - val_acc: 0.8202\n",
            "Epoch 9/10\n",
            "625/625 [==============================] - ETA: 0s - loss: 0.2663 - acc: 0.8878\n",
            "Epoch 00009: val_loss did not improve from 0.37367\n",
            "625/625 [==============================] - 15s 25ms/step - loss: 0.2663 - acc: 0.8878 - val_loss: 0.4421 - val_acc: 0.8195\n",
            "Epoch 10/10\n",
            "623/625 [============================>.] - ETA: 0s - loss: 0.2647 - acc: 0.8863\n",
            "Epoch 00010: val_loss did not improve from 0.37367\n",
            "625/625 [==============================] - 15s 25ms/step - loss: 0.2648 - acc: 0.8863 - val_loss: 0.4173 - val_acc: 0.8259\n"
          ],
          "name": "stdout"
        }
      ]
    },
    {
      "cell_type": "markdown",
      "metadata": {
        "id": "shzhTOjAninH"
      },
      "source": [
        "## 학습 완료 후 Load Weights (ModelCheckpoint)"
      ]
    },
    {
      "cell_type": "markdown",
      "metadata": {
        "id": "kLqb_6XrMvdq"
      },
      "source": [
        "학습이 완료된 후에는 반드시 `load_weights`를 해주어야 합니다.\n",
        "\n",
        "그렇지 않으면, 열심히 ModelCheckpoint를 만든 의미가 없습니다."
      ]
    },
    {
      "cell_type": "code",
      "metadata": {
        "id": "4jO1ucZ9ninH",
        "colab": {
          "base_uri": "https://localhost:8080/"
        },
        "outputId": "2ede9be8-da62-4cce-90ec-164687862aae"
      },
      "source": [
        "model.load_weights(checkpoint_path)"
      ],
      "execution_count": null,
      "outputs": [
        {
          "output_type": "execute_result",
          "data": {
            "text/plain": [
              "<tensorflow.python.training.tracking.util.CheckpointLoadStatus at 0x7f4031ab3a20>"
            ]
          },
          "metadata": {
            "tags": []
          },
          "execution_count": 42
        }
      ]
    },
    {
      "cell_type": "markdown",
      "metadata": {
        "id": "1t0xRupR1LmK"
      },
      "source": [
        "## 학습 오차에 대한 시각화"
      ]
    },
    {
      "cell_type": "code",
      "metadata": {
        "id": "wwus5OLdFg2t"
      },
      "source": [
        "import matplotlib.pyplot as plt"
      ],
      "execution_count": null,
      "outputs": []
    },
    {
      "cell_type": "code",
      "metadata": {
        "id": "luCcz7AUE5Z3",
        "colab": {
          "base_uri": "https://localhost:8080/",
          "height": 572
        },
        "outputId": "0d6aeaf8-777d-4db3-d898-0364e7f74806"
      },
      "source": [
        "plt.figure(figsize=(12, 9))\n",
        "plt.plot(np.arange(1, epochs+1), history.history['loss'])\n",
        "plt.plot(np.arange(1, epochs+1), history.history['val_loss'])\n",
        "plt.title('Loss / Val Loss', fontsize=20)\n",
        "plt.xlabel('Epochs')\n",
        "plt.ylabel('Loss')\n",
        "plt.legend(['loss', 'val_loss'], fontsize=15)\n",
        "plt.show()"
      ],
      "execution_count": null,
      "outputs": [
        {
          "output_type": "display_data",
          "data": {
            "image/png": "[encoded data removed]",
            "text/plain": [
              "<Figure size 864x648 with 1 Axes>"
            ]
          },
          "metadata": {
            "tags": [],
            "needs_background": "light"
          }
        }
      ]
    },
    {
      "cell_type": "code",
      "metadata": {
        "id": "W98mqIn0E8bW",
        "colab": {
          "base_uri": "https://localhost:8080/",
          "height": 572
        },
        "outputId": "30a009f1-0425-4774-8fb4-20661c308afd"
      },
      "source": [
        "plt.figure(figsize=(12, 9))\n",
        "plt.plot(np.arange(1, epochs+1), history.history['acc'])\n",
        "plt.plot(np.arange(1, epochs+1), history.history['val_acc'])\n",
        "plt.title('Acc / Val Acc', fontsize=20)\n",
        "plt.xlabel('Epochs')\n",
        "plt.ylabel('Acc')\n",
        "plt.legend(['acc', 'val_acc'], fontsize=15)\n",
        "plt.show()"
      ],
      "execution_count": null,
      "outputs": [
        {
          "output_type": "display_data",
          "data": {
            "image/png": "[encoded data removed]",
            "text/plain": [
              "<Figure size 864x648 with 1 Axes>"
            ]
          },
          "metadata": {
            "tags": [],
            "needs_background": "light"
          }
        }
      ]
    }
  ]
}