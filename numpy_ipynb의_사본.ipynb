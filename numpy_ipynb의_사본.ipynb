{
  "nbformat": 4,
  "nbformat_minor": 0,
  "metadata": {
    "colab": {
      "name": "numpy.ipynb의 사본",
      "provenance": [],
      "collapsed_sections": [],
      "include_colab_link": true
    },
    "kernelspec": {
      "name": "python3",
      "display_name": "Python 3"
    }
  },
  "cells": [
    {
      "cell_type": "markdown",
      "metadata": {
        "id": "view-in-github",
        "colab_type": "text"
      },
      "source": [
        "<a href=\"https://colab.research.google.com/github/kangtaeksu/Trio/blob/main/numpy_ipynb%EC%9D%98_%EC%82%AC%EB%B3%B8.ipynb\" target=\"_parent\"><img src=\"https://colab.research.google.com/assets/colab-badge.svg\" alt=\"Open In Colab\"/></a>"
      ]
    },
    {
      "cell_type": "code",
      "metadata": {
        "id": "JsfYK2fCCLlv"
      },
      "source": [
        "import numpy as np"
      ],
      "execution_count": null,
      "outputs": []
    },
    {
      "cell_type": "code",
      "metadata": {
        "id": "LDKSyl1FDKAZ",
        "colab": {
          "base_uri": "https://localhost:8080/",
          "height": 55
        },
        "outputId": "065dc34a-0afe-40f1-9508-7107a55cdbd5"
      },
      "source": [
        "# [10, 20, 30] 리스트 데이터를 ndarray로 생성\n",
        "data_ndarray = np.array([10, 20, 30])\n",
        "print(data_ndarray)\n",
        "print(type(data_ndarray))"
      ],
      "execution_count": null,
      "outputs": [
        {
          "output_type": "stream",
          "text": [
            "[10 20 30]\n",
            "<class 'numpy.ndarray'>\n"
          ],
          "name": "stdout"
        }
      ]
    },
    {
      "cell_type": "code",
      "metadata": {
        "id": "Ou9l5g5fHYBD",
        "colab": {
          "base_uri": "https://localhost:8080/",
          "height": 73
        },
        "outputId": "edd3057e-68a9-4888-ab2b-d88f4a0519b1"
      },
      "source": [
        "# 각 배열 shape, 차원, 타입\n",
        "print(\"shape = \", data_ndarray.shape)\n",
        "print(\"ndim = \", data_ndarray.ndim)\n",
        "print(\"dtype = \", data_ndarray.dtype)"
      ],
      "execution_count": null,
      "outputs": [
        {
          "output_type": "stream",
          "text": [
            "shape =  (3,)\n",
            "ndim =  1\n",
            "dtype =  int64\n"
          ],
          "name": "stdout"
        }
      ]
    },
    {
      "cell_type": "code",
      "metadata": {
        "id": "aGgmX7U1Ieeq",
        "colab": {
          "base_uri": "https://localhost:8080/",
          "height": 36
        },
        "outputId": "a33a3216-fc38-4f69-e3e4-747528733587"
      },
      "source": [
        "# ndarray 배열 상세 정보를 출력하는 함수 생성\n",
        "def printinfo(array):\n",
        "  print(\"shape: {}, dimension: {}, dtype: {}\"\n",
        "  .format(array.shape, array.ndim, array.dtype))\n",
        "\n",
        "printinfo(data_ndarray)"
      ],
      "execution_count": null,
      "outputs": [
        {
          "output_type": "stream",
          "text": [
            "shape: (3,), dimension: 1, dtype: int64\n"
          ],
          "name": "stdout"
        }
      ]
    },
    {
      "cell_type": "code",
      "metadata": {
        "id": "zpvwx_xHLy88",
        "colab": {
          "base_uri": "https://localhost:8080/",
          "height": 73
        },
        "outputId": "039568a9-b1d9-4a00-a40f-2c2f92878496"
      },
      "source": [
        "# 파이썬 2차원 배열로 Numpy 배열 생성(타입 지정)\n",
        "data = [[1, 2, 3], [4, 5 ,6]]\n",
        "nparr = np.array(data, dtype=float) # float로 지정되어 저장됨\n",
        "print(nparr)\n",
        "\n",
        "printinfo(nparr)"
      ],
      "execution_count": null,
      "outputs": [
        {
          "output_type": "stream",
          "text": [
            "[[1. 2. 3.]\n",
            " [4. 5. 6.]]\n",
            "shape: (2, 3), dimension: 2, dtype: float64\n"
          ],
          "name": "stdout"
        }
      ]
    },
    {
      "cell_type": "code",
      "metadata": {
        "id": "VUTI15YSIvQD",
        "colab": {
          "base_uri": "https://localhost:8080/",
          "height": 129
        },
        "outputId": "1bdfd94d-4b6b-41e3-85b6-0454a5e66757"
      },
      "source": [
        "# 파이썬 3차원 배열로 Numpy 배열 생성\n",
        "array = np.array([[[1, 2, 3],\n",
        "                   [4, 5, 6]],\n",
        "                 [[3, 2, 1],\n",
        "                  [4, 5, 6]]], dtype=float)\n",
        "print(array)\n",
        "printinfo(array)"
      ],
      "execution_count": null,
      "outputs": [
        {
          "output_type": "stream",
          "text": [
            "[[[1. 2. 3.]\n",
            "  [4. 5. 6.]]\n",
            "\n",
            " [[3. 2. 1.]\n",
            "  [4. 5. 6.]]]\n",
            "shape: (2, 2, 3), dimension: 3, dtype: float64\n"
          ],
          "name": "stdout"
        }
      ]
    },
    {
      "cell_type": "code",
      "metadata": {
        "id": "yOmjOphvOJZ9",
        "colab": {
          "base_uri": "https://localhost:8080/",
          "height": 129
        },
        "outputId": "0aeacc16-7650-43b0-bdec-7352124ede18"
      },
      "source": [
        "# zeors(shape, dtype=float, order='C') 함수 : 지정된 크기 만큼 배열 생성해 모든 요소 0 초기화\n",
        "# 데이터 타입은 기본 float, order는 메모리 저장 방식 지정('C' : C언어 타입, 'F' : Fortran 언어 타입)\n",
        "array = np.zeros(5)\n",
        "print(array)\n",
        "printinfo(array)\n",
        "\n",
        "# 행 , 열을 튜플로 입력해 행렬 생성\n",
        "array = np.zeros((3, 4))\n",
        "print(array)\n",
        "\n",
        "printinfo(array)"
      ],
      "execution_count": null,
      "outputs": [
        {
          "output_type": "stream",
          "text": [
            "[0. 0. 0. 0. 0.]\n",
            "shape: (5,), dimension: 1, dtype: float64\n",
            "[[0. 0. 0. 0.]\n",
            " [0. 0. 0. 0.]\n",
            " [0. 0. 0. 0.]]\n",
            "shape: (3, 4), dimension: 2, dtype: float64\n"
          ],
          "name": "stdout"
        }
      ]
    },
    {
      "cell_type": "code",
      "metadata": {
        "id": "GhJH8HEoPEJv",
        "colab": {
          "base_uri": "https://localhost:8080/",
          "height": 92
        },
        "outputId": "2a4463e2-f2fa-4b8b-fb69-bc355ab5c974"
      },
      "source": [
        "# ones(shape, dtype=float, order='C') 함수 : 지정된 shape의 배열 생성해 모든 요소 1로 초기화\n",
        "array = np.ones((3,4))\n",
        "print(array)\n",
        "\n",
        "printinfo(array)"
      ],
      "execution_count": null,
      "outputs": [
        {
          "output_type": "stream",
          "text": [
            "[[1. 1. 1. 1.]\n",
            " [1. 1. 1. 1.]\n",
            " [1. 1. 1. 1.]]\n",
            "shape: (3, 4), dimension: 2, dtype: float64\n"
          ],
          "name": "stdout"
        }
      ]
    },
    {
      "cell_type": "code",
      "metadata": {
        "id": "cZWPNXADQ8ux",
        "colab": {
          "base_uri": "https://localhost:8080/",
          "height": 92
        },
        "outputId": "639c062c-b5e1-4805-a1c1-851a65570998"
      },
      "source": [
        "# full(shape, fill_value, dtype=None, order='C') 함수\n",
        "# 지정된 shape의 배열 생성해 모든 요소를 fill_value로 초기화\n",
        "array = np.full((3, 4), 1234)\n",
        "print(array)\n",
        "printinfo(array)"
      ],
      "execution_count": null,
      "outputs": [
        {
          "output_type": "stream",
          "text": [
            "[[1234 1234 1234 1234]\n",
            " [1234 1234 1234 1234]\n",
            " [1234 1234 1234 1234]]\n",
            "shape: (3, 4), dimension: 2, dtype: int64\n"
          ],
          "name": "stdout"
        }
      ]
    },
    {
      "cell_type": "code",
      "metadata": {
        "id": "wH7wrQNLSGoU",
        "colab": {
          "base_uri": "https://localhost:8080/",
          "height": 111
        },
        "outputId": "ec620ae9-f227-41e5-a993-44ecbb6fc7db"
      },
      "source": [
        "# empty(shape, dtype=float, order='C')\n",
        "# 초기화되지 않은 상태로 shape 배열 생성되어 임의의 값 배정되며 배열 생성 비용이 가장 저렴하고 빠름\n",
        "array = np.empty((4,2))\n",
        "print(array)\n",
        "\n",
        "printinfo(array)"
      ],
      "execution_count": null,
      "outputs": [
        {
          "output_type": "stream",
          "text": [
            "[[1.47705233e-316 8.48798317e-313]\n",
            " [2.46151512e-312 2.41907520e-312]\n",
            " [2.07955588e-312 2.14321575e-312]\n",
            " [8.70018274e-313 0.00000000e+000]]\n",
            "shape: (4, 2), dimension: 2, dtype: float64\n"
          ],
          "name": "stdout"
        }
      ]
    },
    {
      "cell_type": "code",
      "metadata": {
        "id": "k_GGUf5JSSUi",
        "colab": {
          "base_uri": "https://localhost:8080/",
          "height": 111
        },
        "outputId": "3a8d0b8d-21cb-4243-f55f-135dbcc7c564"
      },
      "source": [
        "# np.eye(N, dtype=float, order='C')\n",
        "array = np.eye(4)\n",
        "print(array)\n",
        "\n",
        "printinfo(array)"
      ],
      "execution_count": null,
      "outputs": [
        {
          "output_type": "stream",
          "text": [
            "[[1. 0. 0. 0.]\n",
            " [0. 1. 0. 0.]\n",
            " [0. 0. 1. 0.]\n",
            " [0. 0. 0. 1.]]\n",
            "shape: (4, 4), dimension: 2, dtype: float64\n"
          ],
          "name": "stdout"
        }
      ]
    },
    {
      "cell_type": "code",
      "metadata": {
        "id": "Pfw2YIjZTWH6",
        "colab": {
          "base_uri": "https://localhost:8080/",
          "height": 185
        },
        "outputId": "ac5ba838-6c96-44a0-da6f-4642aede2dc9"
      },
      "source": [
        "# np.*like 함수 : 지정된 배열과 shape이 같은 행렬을 만드는 함수\n",
        "# np.zeros_list(), np.ones_like(), np.full_like(), np.empty_like()\n",
        "array = np.array([[1, 2, 3], [4, 5, 6]])\n",
        "print(array)\n",
        "printinfo(array)\n",
        "\n",
        "one_array = np.ones_like(array)\n",
        "print(one_array)\n",
        "printinfo(one_array)\n",
        "\n",
        "zero_array = np.zeros_like(array)\n",
        "print(zero_array)\n",
        "printinfo(zero_array)"
      ],
      "execution_count": null,
      "outputs": [
        {
          "output_type": "stream",
          "text": [
            "[[1 2 3]\n",
            " [4 5 6]]\n",
            "shape: (2, 3), dimension: 2, dtype: int64\n",
            "[[1 1 1]\n",
            " [1 1 1]]\n",
            "shape: (2, 3), dimension: 2, dtype: int64\n",
            "[[0 0 0]\n",
            " [0 0 0]]\n",
            "shape: (2, 3), dimension: 2, dtype: int64\n"
          ],
          "name": "stdout"
        }
      ]
    },
    {
      "cell_type": "code",
      "metadata": {
        "id": "LMTHIXTUUrDk",
        "colab": {
          "base_uri": "https://localhost:8080/",
          "height": 92
        },
        "outputId": "4c1f8005-2ff5-4610-d6dc-3c6139d56464"
      },
      "source": [
        "array = np.array([[1, 2], [4, 5]])\n",
        "full_array = np.full_like(array, 7)\n",
        "print(full_array)\n",
        "\n",
        "empty_array = np.empty_like(array)\n",
        "print(empty_array)"
      ],
      "execution_count": null,
      "outputs": [
        {
          "output_type": "stream",
          "text": [
            "[[7 7]\n",
            " [7 7]]\n",
            "[[27806752        1]\n",
            " [       0        0]]\n"
          ],
          "name": "stdout"
        }
      ]
    },
    {
      "cell_type": "code",
      "metadata": {
        "id": "bQmz9ARdbNBF",
        "colab": {
          "base_uri": "https://localhost:8080/",
          "height": 129
        },
        "outputId": "1766cdb5-a675-490c-dd35-884e81d03eb6"
      },
      "source": [
        "array = np.random.randint(0, 100, 20)\n",
        "print(array)\n",
        "\n",
        "# 배열 타입\n",
        "print(type(array))\n",
        "\n",
        "# 배열 형태\n",
        "print(array.shape)\n",
        "\n",
        "# 배열 길이\n",
        "print(len(array))\n",
        "\n",
        "# 배열 차원수\n",
        "print(array.ndim)\n",
        "\n",
        "# 배열의 요소 수\n",
        "print(array.size)"
      ],
      "execution_count": null,
      "outputs": [
        {
          "output_type": "stream",
          "text": [
            "[62 74  9 33 14 38 70 75 55 74 73 36 60 87 86 88 17 10 54 13]\n",
            "<class 'numpy.ndarray'>\n",
            "(20,)\n",
            "20\n",
            "1\n",
            "20\n"
          ],
          "name": "stdout"
        }
      ]
    },
    {
      "cell_type": "code",
      "metadata": {
        "id": "XqXFP1qWcwR_",
        "colab": {
          "base_uri": "https://localhost:8080/",
          "height": 148
        },
        "outputId": "e282529c-30be-483a-bad2-d33924202536"
      },
      "source": [
        "# arange를 통해 시작값, 끝값(연속된 Int값)을 지정하여 배열 생성(끝값 비포함)\n",
        "arr = np.arange(1, 5)\n",
        "print(arr.dtype)\n",
        "print(arr)\n",
        "\n",
        "# random 함수를 통해 특정 shape의 크기로 random값을 통해 배열 생성\n",
        "arr = np.random.random((3, 4))\n",
        "print(arr.dtype)\n",
        "print(arr)\n",
        "print(len(arr))"
      ],
      "execution_count": null,
      "outputs": [
        {
          "output_type": "stream",
          "text": [
            "int64\n",
            "[1 2 3 4]\n",
            "float64\n",
            "[[0.86875437 0.38669216 0.14948338 0.12192213]\n",
            " [0.00353058 0.48923164 0.21147361 0.47288082]\n",
            " [0.46292665 0.57024672 0.91501101 0.62234096]]\n",
            "3\n"
          ],
          "name": "stdout"
        }
      ]
    },
    {
      "cell_type": "code",
      "metadata": {
        "id": "16GZ8-mHd5MQ",
        "colab": {
          "base_uri": "https://localhost:8080/",
          "height": 55
        },
        "outputId": "43498c69-86b4-42c1-c94d-1a6643f38710"
      },
      "source": [
        "# Numpy에서 제공하는 데이터 타입으로 지정하는 것 실습\n",
        "arrlist = [[1,2,3], [4,5,6]]\n",
        "nparr = np.array(arrlist, dtype=np.float)\n",
        "print(nparr)"
      ],
      "execution_count": null,
      "outputs": [
        {
          "output_type": "stream",
          "text": [
            "[[1. 2. 3.]\n",
            " [4. 5. 6.]]\n"
          ],
          "name": "stdout"
        }
      ]
    },
    {
      "cell_type": "code",
      "metadata": {
        "id": "YpoRxnuAegke",
        "colab": {
          "base_uri": "https://localhost:8080/",
          "height": 185
        },
        "outputId": "61864139-2263-4467-9bf1-73dfa16f2fe9"
      },
      "source": [
        "# astype 함수를 통해 배열의 요소의 타입 변환 가능\n",
        "array = np.random.random((3, 4))\n",
        "print(array)\n",
        "\n",
        "\n",
        "print(array.astype(np.int))\n",
        "\n",
        "# 그러나 해당 array 자체를 변환한 것은 아님, 변환한 데이터는 새로운 변수로 받아야함\n",
        "print(array)  "
      ],
      "execution_count": null,
      "outputs": [
        {
          "output_type": "stream",
          "text": [
            "[[0.30050348 0.28803074 0.58040755 0.02266   ]\n",
            " [0.30910048 0.46484459 0.35519063 0.50476658]\n",
            " [0.98767068 0.04280005 0.27764621 0.80255862]]\n",
            "[[0 0 0 0]\n",
            " [0 0 0 0]\n",
            " [0 0 0 0]]\n",
            "[[0.30050348 0.28803074 0.58040755 0.02266   ]\n",
            " [0.30910048 0.46484459 0.35519063 0.50476658]\n",
            " [0.98767068 0.04280005 0.27764621 0.80255862]]\n"
          ],
          "name": "stdout"
        }
      ]
    },
    {
      "cell_type": "code",
      "metadata": {
        "id": "LrTvuFy5fs8p"
      },
      "source": [
        "# help를 통해 함수의 설명 보기\n",
        "help(np.array)\n",
        "help(np.random.randint)"
      ],
      "execution_count": null,
      "outputs": []
    },
    {
      "cell_type": "code",
      "metadata": {
        "id": "cJspEuEWgh2q",
        "colab": {
          "base_uri": "https://localhost:8080/",
          "height": 297
        },
        "outputId": "fb0bf16f-670b-4e2b-d7b7-fa4cbc640fa5"
      },
      "source": [
        "array = np.arange(24) # 끝 값만 지정해도 됨, 시작 default는 0\n",
        "print(array)\n",
        "\n",
        "print(array.shape)\n",
        "\n",
        "# 배열 shape 변경하기\n",
        "array.shape = (6, 4)\n",
        "print(array)\n",
        "\n",
        "array.shape = (2, 3, 4)\n",
        "print(array)"
      ],
      "execution_count": null,
      "outputs": [
        {
          "output_type": "stream",
          "text": [
            "[ 0  1  2  3  4  5  6  7  8  9 10 11 12 13 14 15 16 17 18 19 20 21 22 23]\n",
            "(24,)\n",
            "[[ 0  1  2  3]\n",
            " [ 4  5  6  7]\n",
            " [ 8  9 10 11]\n",
            " [12 13 14 15]\n",
            " [16 17 18 19]\n",
            " [20 21 22 23]]\n",
            "[[[ 0  1  2  3]\n",
            "  [ 4  5  6  7]\n",
            "  [ 8  9 10 11]]\n",
            "\n",
            " [[12 13 14 15]\n",
            "  [16 17 18 19]\n",
            "  [20 21 22 23]]]\n"
          ],
          "name": "stdout"
        }
      ]
    },
    {
      "cell_type": "code",
      "metadata": {
        "id": "NAJC-8vGiU9j",
        "colab": {
          "base_uri": "https://localhost:8080/",
          "height": 223
        },
        "outputId": "8b1041db-b740-4860-d202-7db61e8fa016"
      },
      "source": [
        "# 다차원 배열로 복사하는 함수 reshape()\n",
        "array = np.arange(24)\n",
        "print(array)\n",
        "\n",
        "reshape_array = np.reshape(array, (4, 6))\n",
        "print(reshape_array)\n",
        "\n",
        "\n",
        "# reshape으로 변경된 배열의 요소를 바꾸면 원 배열의 원소도 수정됨\n",
        "# 원 배열을 수정해도 reshape된 배열의 요소가 수정됨\n",
        "reshape_array[1, 2] = 777\n",
        "print(reshape_array)\n",
        "\n",
        "print(array)"
      ],
      "execution_count": null,
      "outputs": [
        {
          "output_type": "stream",
          "text": [
            "[ 0  1  2  3  4  5  6  7  8  9 10 11 12 13 14 15 16 17 18 19 20 21 22 23]\n",
            "[[ 0  1  2  3  4  5]\n",
            " [ 6  7  8  9 10 11]\n",
            " [12 13 14 15 16 17]\n",
            " [18 19 20 21 22 23]]\n",
            "[[  0   1   2   3   4   5]\n",
            " [  6   7 777   9  10  11]\n",
            " [ 12  13  14  15  16  17]\n",
            " [ 18  19  20  21  22  23]]\n",
            "[  0   1   2   3   4   5   6   7 777   9  10  11  12  13  14  15  16  17\n",
            "  18  19  20  21  22  23]\n"
          ],
          "name": "stdout"
        }
      ]
    },
    {
      "cell_type": "code",
      "metadata": {
        "id": "IS8Rhhul2ZWF",
        "colab": {
          "base_uri": "https://localhost:8080/",
          "height": 577
        },
        "outputId": "e93cb9eb-24bc-4798-ce47-40cc5cd222f3"
      },
      "source": [
        "# 사칙연산 실습\n",
        "a = np.arange(1, 10).reshape(3,3)\n",
        "print(a)\n",
        "\n",
        "b = np.arange(9,0,-1).reshape(3,3)\n",
        "print(b)\n",
        "\n",
        "# 덧셈 연산\n",
        "print(a+b)\n",
        "print(np.add(a,b))\n",
        "\n",
        "# 뺄셈 연산\n",
        "print(a - b)\n",
        "print(np.subtract(a, b))\n",
        "\n",
        "# 나눗셈 연산\n",
        "print(a / b)\n",
        "print(np.divide(a, b))\n",
        "\n",
        "# 제곱 연산\n",
        "print(a **2)\n",
        "print(np.square(a))"
      ],
      "execution_count": null,
      "outputs": [
        {
          "output_type": "stream",
          "text": [
            "[[1 2 3]\n",
            " [4 5 6]\n",
            " [7 8 9]]\n",
            "[[9 8 7]\n",
            " [6 5 4]\n",
            " [3 2 1]]\n",
            "[[10 10 10]\n",
            " [10 10 10]\n",
            " [10 10 10]]\n",
            "[[10 10 10]\n",
            " [10 10 10]\n",
            " [10 10 10]]\n",
            "[[-8 -6 -4]\n",
            " [-2  0  2]\n",
            " [ 4  6  8]]\n",
            "[[-8 -6 -4]\n",
            " [-2  0  2]\n",
            " [ 4  6  8]]\n",
            "[[0.11111111 0.25       0.42857143]\n",
            " [0.66666667 1.         1.5       ]\n",
            " [2.33333333 4.         9.        ]]\n",
            "[[0.11111111 0.25       0.42857143]\n",
            " [0.66666667 1.         1.5       ]\n",
            " [2.33333333 4.         9.        ]]\n",
            "[[ 1  4  9]\n",
            " [16 25 36]\n",
            " [49 64 81]]\n",
            "[[ 1  4  9]\n",
            " [16 25 36]\n",
            " [49 64 81]]\n"
          ],
          "name": "stdout"
        }
      ]
    },
    {
      "cell_type": "code",
      "metadata": {
        "id": "R2jv2Ggj3RhI",
        "colab": {
          "base_uri": "https://localhost:8080/",
          "height": 316
        },
        "outputId": "672532d0-5293-4dae-c712-17fc8c3331c7"
      },
      "source": [
        "# 비교 연산(>, <) 수행\n",
        "print(a > b)\n",
        "print(a < b)\n",
        "print(a == b)\n",
        "print(a != b)\n",
        "\n",
        "# b 배열만 일부 수정하여 테스트\n",
        "b = np.arange(1, 17).reshape(4,4) # a는 3*3, b는 4*4로 다름\n",
        "print(b)\n",
        "\n",
        "# print(a > b) # 에러가 발생함. 연산 대상의 shape가 다르면 연산이 불가"
      ],
      "execution_count": null,
      "outputs": [
        {
          "output_type": "stream",
          "text": [
            "[[False False False]\n",
            " [False False  True]\n",
            " [ True  True  True]]\n",
            "[[ True  True  True]\n",
            " [ True False False]\n",
            " [False False False]]\n",
            "[[False False False]\n",
            " [False  True False]\n",
            " [False False False]]\n",
            "[[ True  True  True]\n",
            " [ True False  True]\n",
            " [ True  True  True]]\n",
            "[[ 1  2  3  4]\n",
            " [ 5  6  7  8]\n",
            " [ 9 10 11 12]\n",
            " [13 14 15 16]]\n"
          ],
          "name": "stdout"
        }
      ]
    },
    {
      "cell_type": "code",
      "metadata": {
        "id": "tfz7tR8q39IX"
      },
      "source": [
        "# numpy가 실제로 일반 배열 보다 더 빠를까?\n",
        "np_a = np.arange(1000000)\n",
        "print(np_a)\n",
        "\n",
        "%time np_a + 1 # 컴퓨터의 실행에 따른 결과값을 확인\n",
        "\n",
        "# 일반 python 함수 사용 시\n",
        "python_a = range(1000000)\n",
        "print(python_a)\n",
        "\n",
        "%time [i+1 for i in python_a] # 실제 어마어마한 차이가 있음을 알 수 있음"
      ],
      "execution_count": null,
      "outputs": []
    },
    {
      "cell_type": "code",
      "metadata": {
        "id": "dScd-EB66HVN",
        "colab": {
          "base_uri": "https://localhost:8080/",
          "height": 148
        },
        "outputId": "c819fdd7-a767-4a78-f1c6-0be2edc3fdb1"
      },
      "source": [
        "# array_equal() 함수 : 배열 전체 비교\n",
        "a = np.arange(1, 10).reshape(3,3)\n",
        "print(a)\n",
        "\n",
        "b = np.arange(1,10).reshape(3,3)\n",
        "b[1,1] = 777\n",
        "print(b)\n",
        "\n",
        "print(np.array_equal(a, b))"
      ],
      "execution_count": null,
      "outputs": [
        {
          "output_type": "stream",
          "text": [
            "[[1 2 3]\n",
            " [4 5 6]\n",
            " [7 8 9]]\n",
            "[[  1   2   3]\n",
            " [  4 777   6]\n",
            " [  7   8   9]]\n",
            "False\n"
          ],
          "name": "stdout"
        }
      ]
    },
    {
      "cell_type": "code",
      "metadata": {
        "id": "to8yJ33z64jo",
        "colab": {
          "base_uri": "https://localhost:8080/",
          "height": 185
        },
        "outputId": "b82bd836-6140-4d7e-bfca-b5a389f95519"
      },
      "source": [
        "# 삼각 함수(sin, cos, etc) 연산\n",
        "a = np.linspace(0, np.pi, 9).reshape(3,3)\n",
        "print(a)\n",
        "\n",
        "print(np.sin(a))\n",
        "print(np.cos(a))"
      ],
      "execution_count": null,
      "outputs": [
        {
          "output_type": "stream",
          "text": [
            "[[0.         0.39269908 0.78539816]\n",
            " [1.17809725 1.57079633 1.96349541]\n",
            " [2.35619449 2.74889357 3.14159265]]\n",
            "[[0.00000000e+00 3.82683432e-01 7.07106781e-01]\n",
            " [9.23879533e-01 1.00000000e+00 9.23879533e-01]\n",
            " [7.07106781e-01 3.82683432e-01 1.22464680e-16]]\n",
            "[[ 1.00000000e+00  9.23879533e-01  7.07106781e-01]\n",
            " [ 3.82683432e-01  6.12323400e-17 -3.82683432e-01]\n",
            " [-7.07106781e-01 -9.23879533e-01 -1.00000000e+00]]\n"
          ],
          "name": "stdout"
        }
      ]
    },
    {
      "cell_type": "code",
      "metadata": {
        "id": "OXJ-BsCW7767",
        "colab": {
          "base_uri": "https://localhost:8080/",
          "height": 185
        },
        "outputId": "662dae95-67bf-4cd9-9164-c0c3d2f9dcee"
      },
      "source": [
        "# np.linspace(start, end, num) 함수 : start - end까지 num개의 개수를 균일하게 뽑아서 배열 생성\n",
        "# arange는 구간 내 간격별로 생성되는 것이므로 차이 있음!\n",
        "a = np.arange(1, 2, 0.1)\n",
        "b = np.linspace(1, 2, 11)\n",
        "\n",
        "# 균일하게 입력되는지 확인 가능, matplotlib으로 시각화해보면 더 쉽게 파악 가능\n",
        "array = np.linspace(0, 1) \n",
        "print(array)"
      ],
      "execution_count": null,
      "outputs": [
        {
          "output_type": "stream",
          "text": [
            "[0.         0.02040816 0.04081633 0.06122449 0.08163265 0.10204082\n",
            " 0.12244898 0.14285714 0.16326531 0.18367347 0.20408163 0.2244898\n",
            " 0.24489796 0.26530612 0.28571429 0.30612245 0.32653061 0.34693878\n",
            " 0.36734694 0.3877551  0.40816327 0.42857143 0.44897959 0.46938776\n",
            " 0.48979592 0.51020408 0.53061224 0.55102041 0.57142857 0.59183673\n",
            " 0.6122449  0.63265306 0.65306122 0.67346939 0.69387755 0.71428571\n",
            " 0.73469388 0.75510204 0.7755102  0.79591837 0.81632653 0.83673469\n",
            " 0.85714286 0.87755102 0.89795918 0.91836735 0.93877551 0.95918367\n",
            " 0.97959184 1.        ]\n"
          ],
          "name": "stdout"
        }
      ]
    },
    {
      "cell_type": "code",
      "metadata": {
        "id": "JdtSDoivKgnr",
        "colab": {
          "base_uri": "https://localhost:8080/",
          "height": 700
        },
        "outputId": "3d3ad90b-c74d-4053-bb48-6624a8293b3b"
      },
      "source": [
        "array = np.linspace(0, 10, 50)\n",
        "print(array)\n",
        "\n",
        "# matplotlib 으로 데이터 시각화하기\n",
        "import matplotlib.pyplot as plt\n",
        "plt.plot(array, 'o')\n",
        "plt.show()\n",
        "\n",
        "array = np.arange(1, 10, 0.5)\n",
        "print(array)\n",
        "plt.plot(array, 'o')\n",
        "plt.show()"
      ],
      "execution_count": null,
      "outputs": [
        {
          "output_type": "stream",
          "text": [
            "[ 0.          0.20408163  0.40816327  0.6122449   0.81632653  1.02040816\n",
            "  1.2244898   1.42857143  1.63265306  1.83673469  2.04081633  2.24489796\n",
            "  2.44897959  2.65306122  2.85714286  3.06122449  3.26530612  3.46938776\n",
            "  3.67346939  3.87755102  4.08163265  4.28571429  4.48979592  4.69387755\n",
            "  4.89795918  5.10204082  5.30612245  5.51020408  5.71428571  5.91836735\n",
            "  6.12244898  6.32653061  6.53061224  6.73469388  6.93877551  7.14285714\n",
            "  7.34693878  7.55102041  7.75510204  7.95918367  8.16326531  8.36734694\n",
            "  8.57142857  8.7755102   8.97959184  9.18367347  9.3877551   9.59183673\n",
            "  9.79591837 10.        ]\n"
          ],
          "name": "stdout"
        },
        {
          "output_type": "display_data",
          "data": {
            "image/png": "[encoded data removed]",
            "text/plain": [
              "<Figure size 432x288 with 1 Axes>"
            ]
          },
          "metadata": {
            "tags": [],
            "needs_background": "light"
          }
        },
        {
          "output_type": "stream",
          "text": [
            "[1.  1.5 2.  2.5 3.  3.5 4.  4.5 5.  5.5 6.  6.5 7.  7.5 8.  8.5 9.  9.5]\n"
          ],
          "name": "stdout"
        },
        {
          "output_type": "display_data",
          "data": {
            "image/png": "[encoded data removed]",
            "text/plain": [
              "<Figure size 432x288 with 1 Axes>"
            ]
          },
          "metadata": {
            "tags": [],
            "needs_background": "light"
          }
        }
      ]
    },
    {
      "cell_type": "code",
      "metadata": {
        "id": "H85iFizt8t-Q",
        "colab": {
          "base_uri": "https://localhost:8080/",
          "height": 335
        },
        "outputId": "25408f02-d744-4f69-8822-a3b9fd910f97"
      },
      "source": [
        "# Numpy 브로드캐스팅 : 형상이 다른 배열 간 특정 조건이 맞으면 연산 가능\n",
        "arr = np.arange(3)\n",
        "print(arr)\n",
        "print(arr + 5)\n",
        "\n",
        "# shape이 다른 배열 간 연산\n",
        "a = np.ones((3, 3))\n",
        "print(a)\n",
        "\n",
        "b = np.arange(3)\n",
        "print(b)\n",
        "\n",
        "print(a+b)\n",
        "\n",
        "# b = np.arange(4)\n",
        "# print(a+b) # 브로드 캐스팅이 실패하여 에러 발생\n",
        "\n",
        "print(\"############################\")\n",
        "a = np.arange(3).reshape((3, 1))\n",
        "print(a)\n",
        "\n",
        "b = np.arange(3)\n",
        "print(b)\n",
        "\n",
        "print(a+b)"
      ],
      "execution_count": null,
      "outputs": [
        {
          "output_type": "stream",
          "text": [
            "[0 1 2]\n",
            "[5 6 7]\n",
            "[[1. 1. 1.]\n",
            " [1. 1. 1.]\n",
            " [1. 1. 1.]]\n",
            "[0 1 2]\n",
            "[[1. 2. 3.]\n",
            " [1. 2. 3.]\n",
            " [1. 2. 3.]]\n",
            "############################\n",
            "[[0]\n",
            " [1]\n",
            " [2]]\n",
            "[0 1 2]\n",
            "[[0 1 2]\n",
            " [1 2 3]\n",
            " [2 3 4]]\n"
          ],
          "name": "stdout"
        }
      ]
    },
    {
      "cell_type": "code",
      "metadata": {
        "id": "gqEg5SfLDlUX",
        "colab": {
          "base_uri": "https://localhost:8080/",
          "height": 260
        },
        "outputId": "2f944ebf-ff77-4603-a491-949505edd465"
      },
      "source": [
        "# 집계함수\n",
        "array = np.arange(1, 10).reshape(3,3)\n",
        "print(array)\n",
        "\n",
        "print(array.sum())\n",
        "print(array.min())\n",
        "print(array.max())\n",
        "print(array.mean())\n",
        "print(np.median(array))\n",
        "\n",
        "# axis = 0 을 통해 열을 기준으로 동일 인덱스의 요소를 그룹 연산\n",
        "print(array.sum(axis=0))\n",
        "print(array.mean(axis=0))\n",
        "print(array.max(axis=0))\n",
        "print(array.min(axis=0))\n",
        "print(np.median(array, axis=0))"
      ],
      "execution_count": null,
      "outputs": [
        {
          "output_type": "stream",
          "text": [
            "[[1 2 3]\n",
            " [4 5 6]\n",
            " [7 8 9]]\n",
            "45\n",
            "1\n",
            "9\n",
            "5.0\n",
            "5.0\n",
            "[12 15 18]\n",
            "[4. 5. 6.]\n",
            "[7 8 9]\n",
            "[1 2 3]\n",
            "[4. 5. 6.]\n"
          ],
          "name": "stdout"
        }
      ]
    },
    {
      "cell_type": "code",
      "metadata": {
        "id": "SfzYr73GJ5hK",
        "colab": {
          "base_uri": "https://localhost:8080/",
          "height": 377
        },
        "outputId": "4cf1cad4-4c9d-4d5e-ce5a-38f98a15e00f"
      },
      "source": [
        "# Random 모듈\n",
        "# np.random.rand(shape) 함수 : 0 ~ 1사이의 랜덤 값으로 shape 만큼의 배열 생성\n",
        "array = np.random.rand(3, 4)\n",
        "print(array)\n",
        "\n",
        "# np.random.randn(num) 함수 : 표준 정규 분포에서 표본 추출해서 배열 생성\n",
        "array = np.random.randn(10000)\n",
        "print(array)\n",
        "\n",
        "plt.hist(array, bins=100)\n",
        "plt.show()\n",
        "\n",
        "# np.random.randint(low, high, shape) 함수 : 지정된 shape로 배열 생성\n",
        "# low부터 high 미만 범위의 균등한 분포로 정수 표본 추출\n",
        "array = np.random.randint(0, 2, 10)\n",
        "print(array)\n"
      ],
      "execution_count": null,
      "outputs": [
        {
          "output_type": "stream",
          "text": [
            "[[0.28966576 0.71842005 0.4784641  0.37545852]\n",
            " [0.41280381 0.77541286 0.59719265 0.41832957]\n",
            " [0.2335801  0.10958417 0.13505448 0.3581866 ]]\n",
            "[-0.30351526 -0.28574927 -0.96535241 ... -0.9685019  -0.85429542\n",
            " -0.20679461]\n"
          ],
          "name": "stdout"
        },
        {
          "output_type": "display_data",
          "data": {
            "image/png": "[encoded data removed]",
            "text/plain": [
              "<Figure size 432x288 with 1 Axes>"
            ]
          },
          "metadata": {
            "tags": [],
            "needs_background": "light"
          }
        },
        {
          "output_type": "stream",
          "text": [
            "[0 1 1 1 1 0 1 1 0 0]\n"
          ],
          "name": "stdout"
        }
      ]
    }
  ]
}